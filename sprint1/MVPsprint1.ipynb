{
  "nbformat": 4,
  "nbformat_minor": 0,
  "metadata": {
    "colab": {
      "provenance": [],
      "authorship_tag": "ABX9TyO89dItmb5NRsgj05KGnU9p",
      "include_colab_link": true
    },
    "kernelspec": {
      "name": "python3",
      "display_name": "Python 3"
    },
    "language_info": {
      "name": "python"
    }
  },
  "cells": [
    {
      "cell_type": "markdown",
      "metadata": {
        "id": "view-in-github",
        "colab_type": "text"
      },
      "source": [
        "<a href=\"https://colab.research.google.com/github/pauloedhuardo/pos-mvp/blob/main/MVPsprint1.ipynb\" target=\"_parent\"><img src=\"https://colab.research.google.com/assets/colab-badge.svg\" alt=\"Open In Colab\"/></a>"
      ]
    },
    {
      "cell_type": "markdown",
      "source": [
        "# **Objetivo**\n",
        "\n",
        "Este trabalho tem o objetivo de determinar o nível de estresse (PSS_score) de uma amostra de indivíduos analisando variáveis físicas, fisiológicas e comportamentais em um período de 30 dias.\n",
        "\n",
        "\n"
      ],
      "metadata": {
        "id": "4xH-83IT5XAI"
      }
    },
    {
      "cell_type": "markdown",
      "source": [
        "# **Configurações**"
      ],
      "metadata": {
        "id": "ORpUitDu7XPe"
      }
    },
    {
      "cell_type": "markdown",
      "source": [
        "**Configurações iniciais e importações das bibliotecas necessárias**"
      ],
      "metadata": {
        "id": "H6n14xbN7jj9"
      }
    },
    {
      "cell_type": "code",
      "execution_count": 81,
      "metadata": {
        "id": "sLVo_A1oa1-R"
      },
      "outputs": [],
      "source": [
        "# Configuração para não exibir os warnings\n",
        "import warnings\n",
        "warnings.filterwarnings(\"ignore\")\n",
        "\n",
        "# Imports necessários\n",
        "import pandas as pd\n",
        "import numpy as np\n",
        "import matplotlib.pyplot as plt\n",
        "from sklearn.model_selection import train_test_split # para particionar em bases de treino e teste (holdout)\n",
        "from sklearn.model_selection import KFold # para preparar os folds da validação cruzada\n",
        "from sklearn.model_selection import cross_val_score # para executar a validação cruzada\n",
        "from sklearn.metrics import mean_squared_error # métrica de avaliação MSE\n",
        "from sklearn.linear_model import LinearRegression # algoritmo Regressão Linear\n",
        "from sklearn.linear_model import Ridge # algoritmo Regularização Ridge\n",
        "from sklearn.linear_model import Lasso # algoritmo Regularização Lasso\n",
        "from sklearn.neighbors import KNeighborsRegressor # algoritmo KNN\n",
        "from sklearn.tree import DecisionTreeRegressor # algoritmo Árvore de Regressão\n",
        "from sklearn.tree import DecisionTreeClassifier # algoritmo Árvore de Decisão\n",
        "from sklearn.svm import SVR # algoritmo SVM\n",
        "from sklearn.svm import SVC # algoritmo SVC\n",
        "from sklearn.model_selection import GridSearchCV # para otimização de hiperparâmetros\n",
        "from sklearn.model_selection import StratifiedKFold # para validação cruzada com estratificação\n",
        "from sklearn.preprocessing import StandardScaler\n",
        "from sklearn.preprocessing import MinMaxScaler\n",
        "from sklearn.pipeline import Pipeline"
      ]
    },
    {
      "cell_type": "markdown",
      "source": [
        "**Carragmento do dataset**"
      ],
      "metadata": {
        "id": "PolZVilc7CZe"
      }
    },
    {
      "cell_type": "code",
      "source": [
        "url_dataset = 'https://raw.githubusercontent.com/pauloedhuardo/pos-mvp/main/sprint1/stress_detection.csv'\n",
        "\n",
        "dataset = pd.read_csv(url_dataset, delimiter=',')\n",
        "\n",
        "dataset.head()"
      ],
      "metadata": {
        "colab": {
          "base_uri": "https://localhost:8080/",
          "height": 226
        },
        "id": "XimH4hxVozsQ",
        "outputId": "c64b6d5c-ea01-4fcf-da4e-9ead5ad70ecc"
      },
      "execution_count": 82,
      "outputs": [
        {
          "output_type": "execute_result",
          "data": {
            "text/plain": [
              "   participant_id  day  PSS_score  Openness  Conscientiousness  Extraversion  \\\n",
              "0               1    1         34  2.322732           4.332193      1.185878   \n",
              "1               1    2         37  1.761436           3.254120      3.907281   \n",
              "2               1    3         30  3.025887           1.855002      2.045900   \n",
              "3               1    4         16  1.948370           4.966676      3.345225   \n",
              "4               1    5         32  3.343484           2.065936      3.137843   \n",
              "\n",
              "   Agreeableness  Neuroticism  sleep_time  wake_time  sleep_duration  \\\n",
              "0       1.570213     3.782094    7.726792   5.190660        6.572069   \n",
              "1       4.072512     1.997145    7.312674   6.170717        8.030168   \n",
              "2       2.317493     3.619225    6.992060   5.318825        7.102420   \n",
              "3       1.607756     3.583524    8.886914   8.061075        8.123294   \n",
              "4       2.118061     2.567347    7.811705   7.312145        7.785143   \n",
              "\n",
              "   PSQI_score  call_duration  num_calls  num_sms  screen_on_time  \\\n",
              "0           1       3.924527         12       32       10.703714   \n",
              "1           4      58.318004          3       41       11.012939   \n",
              "2           1       4.941043          4       48        4.877372   \n",
              "3           3       0.295373         11       38        3.462956   \n",
              "4           3      22.300571         17       17        4.861046   \n",
              "\n",
              "   skin_conductance  accelerometer  mobility_radius  mobility_distance  \n",
              "0          3.115730       0.161717         1.145179           2.196851  \n",
              "1          0.959144       0.985587         1.021133           0.737825  \n",
              "2          3.311629       1.877445         0.478179           0.911673  \n",
              "3          0.625721       0.494921         0.630549           3.911418  \n",
              "4          0.622609       1.342600         0.254090           1.605132  "
            ],
            "text/html": [
              "\n",
              "  <div id=\"df-1a85a231-8fb0-4eba-b9a5-4300e4f897d4\" class=\"colab-df-container\">\n",
              "    <div>\n",
              "<style scoped>\n",
              "    .dataframe tbody tr th:only-of-type {\n",
              "        vertical-align: middle;\n",
              "    }\n",
              "\n",
              "    .dataframe tbody tr th {\n",
              "        vertical-align: top;\n",
              "    }\n",
              "\n",
              "    .dataframe thead th {\n",
              "        text-align: right;\n",
              "    }\n",
              "</style>\n",
              "<table border=\"1\" class=\"dataframe\">\n",
              "  <thead>\n",
              "    <tr style=\"text-align: right;\">\n",
              "      <th></th>\n",
              "      <th>participant_id</th>\n",
              "      <th>day</th>\n",
              "      <th>PSS_score</th>\n",
              "      <th>Openness</th>\n",
              "      <th>Conscientiousness</th>\n",
              "      <th>Extraversion</th>\n",
              "      <th>Agreeableness</th>\n",
              "      <th>Neuroticism</th>\n",
              "      <th>sleep_time</th>\n",
              "      <th>wake_time</th>\n",
              "      <th>sleep_duration</th>\n",
              "      <th>PSQI_score</th>\n",
              "      <th>call_duration</th>\n",
              "      <th>num_calls</th>\n",
              "      <th>num_sms</th>\n",
              "      <th>screen_on_time</th>\n",
              "      <th>skin_conductance</th>\n",
              "      <th>accelerometer</th>\n",
              "      <th>mobility_radius</th>\n",
              "      <th>mobility_distance</th>\n",
              "    </tr>\n",
              "  </thead>\n",
              "  <tbody>\n",
              "    <tr>\n",
              "      <th>0</th>\n",
              "      <td>1</td>\n",
              "      <td>1</td>\n",
              "      <td>34</td>\n",
              "      <td>2.322732</td>\n",
              "      <td>4.332193</td>\n",
              "      <td>1.185878</td>\n",
              "      <td>1.570213</td>\n",
              "      <td>3.782094</td>\n",
              "      <td>7.726792</td>\n",
              "      <td>5.190660</td>\n",
              "      <td>6.572069</td>\n",
              "      <td>1</td>\n",
              "      <td>3.924527</td>\n",
              "      <td>12</td>\n",
              "      <td>32</td>\n",
              "      <td>10.703714</td>\n",
              "      <td>3.115730</td>\n",
              "      <td>0.161717</td>\n",
              "      <td>1.145179</td>\n",
              "      <td>2.196851</td>\n",
              "    </tr>\n",
              "    <tr>\n",
              "      <th>1</th>\n",
              "      <td>1</td>\n",
              "      <td>2</td>\n",
              "      <td>37</td>\n",
              "      <td>1.761436</td>\n",
              "      <td>3.254120</td>\n",
              "      <td>3.907281</td>\n",
              "      <td>4.072512</td>\n",
              "      <td>1.997145</td>\n",
              "      <td>7.312674</td>\n",
              "      <td>6.170717</td>\n",
              "      <td>8.030168</td>\n",
              "      <td>4</td>\n",
              "      <td>58.318004</td>\n",
              "      <td>3</td>\n",
              "      <td>41</td>\n",
              "      <td>11.012939</td>\n",
              "      <td>0.959144</td>\n",
              "      <td>0.985587</td>\n",
              "      <td>1.021133</td>\n",
              "      <td>0.737825</td>\n",
              "    </tr>\n",
              "    <tr>\n",
              "      <th>2</th>\n",
              "      <td>1</td>\n",
              "      <td>3</td>\n",
              "      <td>30</td>\n",
              "      <td>3.025887</td>\n",
              "      <td>1.855002</td>\n",
              "      <td>2.045900</td>\n",
              "      <td>2.317493</td>\n",
              "      <td>3.619225</td>\n",
              "      <td>6.992060</td>\n",
              "      <td>5.318825</td>\n",
              "      <td>7.102420</td>\n",
              "      <td>1</td>\n",
              "      <td>4.941043</td>\n",
              "      <td>4</td>\n",
              "      <td>48</td>\n",
              "      <td>4.877372</td>\n",
              "      <td>3.311629</td>\n",
              "      <td>1.877445</td>\n",
              "      <td>0.478179</td>\n",
              "      <td>0.911673</td>\n",
              "    </tr>\n",
              "    <tr>\n",
              "      <th>3</th>\n",
              "      <td>1</td>\n",
              "      <td>4</td>\n",
              "      <td>16</td>\n",
              "      <td>1.948370</td>\n",
              "      <td>4.966676</td>\n",
              "      <td>3.345225</td>\n",
              "      <td>1.607756</td>\n",
              "      <td>3.583524</td>\n",
              "      <td>8.886914</td>\n",
              "      <td>8.061075</td>\n",
              "      <td>8.123294</td>\n",
              "      <td>3</td>\n",
              "      <td>0.295373</td>\n",
              "      <td>11</td>\n",
              "      <td>38</td>\n",
              "      <td>3.462956</td>\n",
              "      <td>0.625721</td>\n",
              "      <td>0.494921</td>\n",
              "      <td>0.630549</td>\n",
              "      <td>3.911418</td>\n",
              "    </tr>\n",
              "    <tr>\n",
              "      <th>4</th>\n",
              "      <td>1</td>\n",
              "      <td>5</td>\n",
              "      <td>32</td>\n",
              "      <td>3.343484</td>\n",
              "      <td>2.065936</td>\n",
              "      <td>3.137843</td>\n",
              "      <td>2.118061</td>\n",
              "      <td>2.567347</td>\n",
              "      <td>7.811705</td>\n",
              "      <td>7.312145</td>\n",
              "      <td>7.785143</td>\n",
              "      <td>3</td>\n",
              "      <td>22.300571</td>\n",
              "      <td>17</td>\n",
              "      <td>17</td>\n",
              "      <td>4.861046</td>\n",
              "      <td>0.622609</td>\n",
              "      <td>1.342600</td>\n",
              "      <td>0.254090</td>\n",
              "      <td>1.605132</td>\n",
              "    </tr>\n",
              "  </tbody>\n",
              "</table>\n",
              "</div>\n",
              "    <div class=\"colab-df-buttons\">\n",
              "\n",
              "  <div class=\"colab-df-container\">\n",
              "    <button class=\"colab-df-convert\" onclick=\"convertToInteractive('df-1a85a231-8fb0-4eba-b9a5-4300e4f897d4')\"\n",
              "            title=\"Convert this dataframe to an interactive table.\"\n",
              "            style=\"display:none;\">\n",
              "\n",
              "  <svg xmlns=\"http://www.w3.org/2000/svg\" height=\"24px\" viewBox=\"0 -960 960 960\">\n",
              "    <path d=\"M120-120v-720h720v720H120Zm60-500h600v-160H180v160Zm220 220h160v-160H400v160Zm0 220h160v-160H400v160ZM180-400h160v-160H180v160Zm440 0h160v-160H620v160ZM180-180h160v-160H180v160Zm440 0h160v-160H620v160Z\"/>\n",
              "  </svg>\n",
              "    </button>\n",
              "\n",
              "  <style>\n",
              "    .colab-df-container {\n",
              "      display:flex;\n",
              "      gap: 12px;\n",
              "    }\n",
              "\n",
              "    .colab-df-convert {\n",
              "      background-color: #E8F0FE;\n",
              "      border: none;\n",
              "      border-radius: 50%;\n",
              "      cursor: pointer;\n",
              "      display: none;\n",
              "      fill: #1967D2;\n",
              "      height: 32px;\n",
              "      padding: 0 0 0 0;\n",
              "      width: 32px;\n",
              "    }\n",
              "\n",
              "    .colab-df-convert:hover {\n",
              "      background-color: #E2EBFA;\n",
              "      box-shadow: 0px 1px 2px rgba(60, 64, 67, 0.3), 0px 1px 3px 1px rgba(60, 64, 67, 0.15);\n",
              "      fill: #174EA6;\n",
              "    }\n",
              "\n",
              "    .colab-df-buttons div {\n",
              "      margin-bottom: 4px;\n",
              "    }\n",
              "\n",
              "    [theme=dark] .colab-df-convert {\n",
              "      background-color: #3B4455;\n",
              "      fill: #D2E3FC;\n",
              "    }\n",
              "\n",
              "    [theme=dark] .colab-df-convert:hover {\n",
              "      background-color: #434B5C;\n",
              "      box-shadow: 0px 1px 3px 1px rgba(0, 0, 0, 0.15);\n",
              "      filter: drop-shadow(0px 1px 2px rgba(0, 0, 0, 0.3));\n",
              "      fill: #FFFFFF;\n",
              "    }\n",
              "  </style>\n",
              "\n",
              "    <script>\n",
              "      const buttonEl =\n",
              "        document.querySelector('#df-1a85a231-8fb0-4eba-b9a5-4300e4f897d4 button.colab-df-convert');\n",
              "      buttonEl.style.display =\n",
              "        google.colab.kernel.accessAllowed ? 'block' : 'none';\n",
              "\n",
              "      async function convertToInteractive(key) {\n",
              "        const element = document.querySelector('#df-1a85a231-8fb0-4eba-b9a5-4300e4f897d4');\n",
              "        const dataTable =\n",
              "          await google.colab.kernel.invokeFunction('convertToInteractive',\n",
              "                                                    [key], {});\n",
              "        if (!dataTable) return;\n",
              "\n",
              "        const docLinkHtml = 'Like what you see? Visit the ' +\n",
              "          '<a target=\"_blank\" href=https://colab.research.google.com/notebooks/data_table.ipynb>data table notebook</a>'\n",
              "          + ' to learn more about interactive tables.';\n",
              "        element.innerHTML = '';\n",
              "        dataTable['output_type'] = 'display_data';\n",
              "        await google.colab.output.renderOutput(dataTable, element);\n",
              "        const docLink = document.createElement('div');\n",
              "        docLink.innerHTML = docLinkHtml;\n",
              "        element.appendChild(docLink);\n",
              "      }\n",
              "    </script>\n",
              "  </div>\n",
              "\n",
              "\n",
              "<div id=\"df-0f5be956-ae26-4288-b58d-e86f8f199a92\">\n",
              "  <button class=\"colab-df-quickchart\" onclick=\"quickchart('df-0f5be956-ae26-4288-b58d-e86f8f199a92')\"\n",
              "            title=\"Suggest charts\"\n",
              "            style=\"display:none;\">\n",
              "\n",
              "<svg xmlns=\"http://www.w3.org/2000/svg\" height=\"24px\"viewBox=\"0 0 24 24\"\n",
              "     width=\"24px\">\n",
              "    <g>\n",
              "        <path d=\"M19 3H5c-1.1 0-2 .9-2 2v14c0 1.1.9 2 2 2h14c1.1 0 2-.9 2-2V5c0-1.1-.9-2-2-2zM9 17H7v-7h2v7zm4 0h-2V7h2v10zm4 0h-2v-4h2v4z\"/>\n",
              "    </g>\n",
              "</svg>\n",
              "  </button>\n",
              "\n",
              "<style>\n",
              "  .colab-df-quickchart {\n",
              "      --bg-color: #E8F0FE;\n",
              "      --fill-color: #1967D2;\n",
              "      --hover-bg-color: #E2EBFA;\n",
              "      --hover-fill-color: #174EA6;\n",
              "      --disabled-fill-color: #AAA;\n",
              "      --disabled-bg-color: #DDD;\n",
              "  }\n",
              "\n",
              "  [theme=dark] .colab-df-quickchart {\n",
              "      --bg-color: #3B4455;\n",
              "      --fill-color: #D2E3FC;\n",
              "      --hover-bg-color: #434B5C;\n",
              "      --hover-fill-color: #FFFFFF;\n",
              "      --disabled-bg-color: #3B4455;\n",
              "      --disabled-fill-color: #666;\n",
              "  }\n",
              "\n",
              "  .colab-df-quickchart {\n",
              "    background-color: var(--bg-color);\n",
              "    border: none;\n",
              "    border-radius: 50%;\n",
              "    cursor: pointer;\n",
              "    display: none;\n",
              "    fill: var(--fill-color);\n",
              "    height: 32px;\n",
              "    padding: 0;\n",
              "    width: 32px;\n",
              "  }\n",
              "\n",
              "  .colab-df-quickchart:hover {\n",
              "    background-color: var(--hover-bg-color);\n",
              "    box-shadow: 0 1px 2px rgba(60, 64, 67, 0.3), 0 1px 3px 1px rgba(60, 64, 67, 0.15);\n",
              "    fill: var(--button-hover-fill-color);\n",
              "  }\n",
              "\n",
              "  .colab-df-quickchart-complete:disabled,\n",
              "  .colab-df-quickchart-complete:disabled:hover {\n",
              "    background-color: var(--disabled-bg-color);\n",
              "    fill: var(--disabled-fill-color);\n",
              "    box-shadow: none;\n",
              "  }\n",
              "\n",
              "  .colab-df-spinner {\n",
              "    border: 2px solid var(--fill-color);\n",
              "    border-color: transparent;\n",
              "    border-bottom-color: var(--fill-color);\n",
              "    animation:\n",
              "      spin 1s steps(1) infinite;\n",
              "  }\n",
              "\n",
              "  @keyframes spin {\n",
              "    0% {\n",
              "      border-color: transparent;\n",
              "      border-bottom-color: var(--fill-color);\n",
              "      border-left-color: var(--fill-color);\n",
              "    }\n",
              "    20% {\n",
              "      border-color: transparent;\n",
              "      border-left-color: var(--fill-color);\n",
              "      border-top-color: var(--fill-color);\n",
              "    }\n",
              "    30% {\n",
              "      border-color: transparent;\n",
              "      border-left-color: var(--fill-color);\n",
              "      border-top-color: var(--fill-color);\n",
              "      border-right-color: var(--fill-color);\n",
              "    }\n",
              "    40% {\n",
              "      border-color: transparent;\n",
              "      border-right-color: var(--fill-color);\n",
              "      border-top-color: var(--fill-color);\n",
              "    }\n",
              "    60% {\n",
              "      border-color: transparent;\n",
              "      border-right-color: var(--fill-color);\n",
              "    }\n",
              "    80% {\n",
              "      border-color: transparent;\n",
              "      border-right-color: var(--fill-color);\n",
              "      border-bottom-color: var(--fill-color);\n",
              "    }\n",
              "    90% {\n",
              "      border-color: transparent;\n",
              "      border-bottom-color: var(--fill-color);\n",
              "    }\n",
              "  }\n",
              "</style>\n",
              "\n",
              "  <script>\n",
              "    async function quickchart(key) {\n",
              "      const quickchartButtonEl =\n",
              "        document.querySelector('#' + key + ' button');\n",
              "      quickchartButtonEl.disabled = true;  // To prevent multiple clicks.\n",
              "      quickchartButtonEl.classList.add('colab-df-spinner');\n",
              "      try {\n",
              "        const charts = await google.colab.kernel.invokeFunction(\n",
              "            'suggestCharts', [key], {});\n",
              "      } catch (error) {\n",
              "        console.error('Error during call to suggestCharts:', error);\n",
              "      }\n",
              "      quickchartButtonEl.classList.remove('colab-df-spinner');\n",
              "      quickchartButtonEl.classList.add('colab-df-quickchart-complete');\n",
              "    }\n",
              "    (() => {\n",
              "      let quickchartButtonEl =\n",
              "        document.querySelector('#df-0f5be956-ae26-4288-b58d-e86f8f199a92 button');\n",
              "      quickchartButtonEl.style.display =\n",
              "        google.colab.kernel.accessAllowed ? 'block' : 'none';\n",
              "    })();\n",
              "  </script>\n",
              "</div>\n",
              "\n",
              "    </div>\n",
              "  </div>\n"
            ],
            "application/vnd.google.colaboratory.intrinsic+json": {
              "type": "dataframe",
              "variable_name": "dataset",
              "summary": "{\n  \"name\": \"dataset\",\n  \"rows\": 3000,\n  \"fields\": [\n    {\n      \"column\": \"participant_id\",\n      \"properties\": {\n        \"dtype\": \"number\",\n        \"std\": 28,\n        \"min\": 1,\n        \"max\": 100,\n        \"num_unique_values\": 100,\n        \"samples\": [\n          84,\n          54,\n          71\n        ],\n        \"semantic_type\": \"\",\n        \"description\": \"\"\n      }\n    },\n    {\n      \"column\": \"day\",\n      \"properties\": {\n        \"dtype\": \"number\",\n        \"std\": 8,\n        \"min\": 1,\n        \"max\": 30,\n        \"num_unique_values\": 30,\n        \"samples\": [\n          28,\n          16,\n          24\n        ],\n        \"semantic_type\": \"\",\n        \"description\": \"\"\n      }\n    },\n    {\n      \"column\": \"PSS_score\",\n      \"properties\": {\n        \"dtype\": \"number\",\n        \"std\": 8,\n        \"min\": 10,\n        \"max\": 39,\n        \"num_unique_values\": 30,\n        \"samples\": [\n          29,\n          23,\n          26\n        ],\n        \"semantic_type\": \"\",\n        \"description\": \"\"\n      }\n    },\n    {\n      \"column\": \"Openness\",\n      \"properties\": {\n        \"dtype\": \"number\",\n        \"std\": 1.1593098401568531,\n        \"min\": 1.005003488,\n        \"max\": 4.997404661,\n        \"num_unique_values\": 3000,\n        \"samples\": [\n          2.311416588,\n          4.073602146,\n          4.309860469\n        ],\n        \"semantic_type\": \"\",\n        \"description\": \"\"\n      }\n    },\n    {\n      \"column\": \"Conscientiousness\",\n      \"properties\": {\n        \"dtype\": \"number\",\n        \"std\": 1.1405110351103602,\n        \"min\": 1.000982489,\n        \"max\": 4.9991371,\n        \"num_unique_values\": 3000,\n        \"samples\": [\n          3.400593173,\n          2.501011579,\n          3.77994288\n        ],\n        \"semantic_type\": \"\",\n        \"description\": \"\"\n      }\n    },\n    {\n      \"column\": \"Extraversion\",\n      \"properties\": {\n        \"dtype\": \"number\",\n        \"std\": 1.143507495423688,\n        \"min\": 1.000584289,\n        \"max\": 4.997641772,\n        \"num_unique_values\": 3000,\n        \"samples\": [\n          3.154282125,\n          4.577669098,\n          4.030465629\n        ],\n        \"semantic_type\": \"\",\n        \"description\": \"\"\n      }\n    },\n    {\n      \"column\": \"Agreeableness\",\n      \"properties\": {\n        \"dtype\": \"number\",\n        \"std\": 1.161073693104234,\n        \"min\": 1.002205904,\n        \"max\": 4.99988084,\n        \"num_unique_values\": 3000,\n        \"samples\": [\n          2.933391223,\n          2.314413125,\n          3.961147325\n        ],\n        \"semantic_type\": \"\",\n        \"description\": \"\"\n      }\n    },\n    {\n      \"column\": \"Neuroticism\",\n      \"properties\": {\n        \"dtype\": \"number\",\n        \"std\": 1.1586237850597636,\n        \"min\": 1.000172846,\n        \"max\": 4.996408108,\n        \"num_unique_values\": 3000,\n        \"samples\": [\n          2.661068447,\n          3.183414263,\n          1.495240591\n        ],\n        \"semantic_type\": \"\",\n        \"description\": \"\"\n      }\n    },\n    {\n      \"column\": \"sleep_time\",\n      \"properties\": {\n        \"dtype\": \"number\",\n        \"std\": 1.160441664856696,\n        \"min\": 5.003290697,\n        \"max\": 8.999947964,\n        \"num_unique_values\": 3000,\n        \"samples\": [\n          7.018024688,\n          7.516059614,\n          7.51051785\n        ],\n        \"semantic_type\": \"\",\n        \"description\": \"\"\n      }\n    },\n    {\n      \"column\": \"wake_time\",\n      \"properties\": {\n        \"dtype\": \"number\",\n        \"std\": 1.1612253034271327,\n        \"min\": 5.00192651,\n        \"max\": 8.998370732,\n        \"num_unique_values\": 3000,\n        \"samples\": [\n          6.486675968,\n          5.565168088,\n          5.474510162\n        ],\n        \"semantic_type\": \"\",\n        \"description\": \"\"\n      }\n    },\n    {\n      \"column\": \"sleep_duration\",\n      \"properties\": {\n        \"dtype\": \"number\",\n        \"std\": 0.8676015584249042,\n        \"min\": 6.000560973,\n        \"max\": 8.999061409,\n        \"num_unique_values\": 3000,\n        \"samples\": [\n          8.09892737,\n          8.52906215,\n          7.876139813\n        ],\n        \"semantic_type\": \"\",\n        \"description\": \"\"\n      }\n    },\n    {\n      \"column\": \"PSQI_score\",\n      \"properties\": {\n        \"dtype\": \"number\",\n        \"std\": 1,\n        \"min\": 1,\n        \"max\": 4,\n        \"num_unique_values\": 4,\n        \"samples\": [\n          4,\n          2,\n          1\n        ],\n        \"semantic_type\": \"\",\n        \"description\": \"\"\n      }\n    },\n    {\n      \"column\": \"call_duration\",\n      \"properties\": {\n        \"dtype\": \"number\",\n        \"std\": 17.563026861019665,\n        \"min\": 0.002886141,\n        \"max\": 59.98307358,\n        \"num_unique_values\": 3000,\n        \"samples\": [\n          24.98858545,\n          39.99737574,\n          16.15384606\n        ],\n        \"semantic_type\": \"\",\n        \"description\": \"\"\n      }\n    },\n    {\n      \"column\": \"num_calls\",\n      \"properties\": {\n        \"dtype\": \"number\",\n        \"std\": 5,\n        \"min\": 0,\n        \"max\": 19,\n        \"num_unique_values\": 20,\n        \"samples\": [\n          12,\n          13,\n          1\n        ],\n        \"semantic_type\": \"\",\n        \"description\": \"\"\n      }\n    },\n    {\n      \"column\": \"num_sms\",\n      \"properties\": {\n        \"dtype\": \"number\",\n        \"std\": 14,\n        \"min\": 0,\n        \"max\": 49,\n        \"num_unique_values\": 50,\n        \"samples\": [\n          40,\n          15,\n          0\n        ],\n        \"semantic_type\": \"\",\n        \"description\": \"\"\n      }\n    },\n    {\n      \"column\": \"screen_on_time\",\n      \"properties\": {\n        \"dtype\": \"number\",\n        \"std\": 3.1456662845809094,\n        \"min\": 1.006874242,\n        \"max\": 11.99787122,\n        \"num_unique_values\": 3000,\n        \"samples\": [\n          4.286048587,\n          2.583883195,\n          11.93886744\n        ],\n        \"semantic_type\": \"\",\n        \"description\": \"\"\n      }\n    },\n    {\n      \"column\": \"skin_conductance\",\n      \"properties\": {\n        \"dtype\": \"number\",\n        \"std\": 1.2827515636267375,\n        \"min\": 0.501594763,\n        \"max\": 4.999103926,\n        \"num_unique_values\": 3000,\n        \"samples\": [\n          2.075852632,\n          2.299757266,\n          4.429931828\n        ],\n        \"semantic_type\": \"\",\n        \"description\": \"\"\n      }\n    },\n    {\n      \"column\": \"accelerometer\",\n      \"properties\": {\n        \"dtype\": \"number\",\n        \"std\": 0.6885414964896129,\n        \"min\": 0.100790508,\n        \"max\": 2.499946388,\n        \"num_unique_values\": 3000,\n        \"samples\": [\n          1.935948811,\n          0.493005608,\n          0.687794026\n        ],\n        \"semantic_type\": \"\",\n        \"description\": \"\"\n      }\n    },\n    {\n      \"column\": \"mobility_radius\",\n      \"properties\": {\n        \"dtype\": \"number\",\n        \"std\": 0.40252720164794953,\n        \"min\": 0.100041356,\n        \"max\": 1.499889808,\n        \"num_unique_values\": 3000,\n        \"samples\": [\n          0.486247491,\n          0.125782713,\n          1.24979765\n        ],\n        \"semantic_type\": \"\",\n        \"description\": \"\"\n      }\n    },\n    {\n      \"column\": \"mobility_distance\",\n      \"properties\": {\n        \"dtype\": \"number\",\n        \"std\": 1.3068180543456864,\n        \"min\": 0.501621966,\n        \"max\": 4.999928983,\n        \"num_unique_values\": 3000,\n        \"samples\": [\n          4.066899976,\n          1.326426922,\n          4.376271378\n        ],\n        \"semantic_type\": \"\",\n        \"description\": \"\"\n      }\n    }\n  ]\n}"
            }
          },
          "metadata": {},
          "execution_count": 82
        }
      ]
    },
    {
      "cell_type": "markdown",
      "source": [
        "# **Preparação dos dados**"
      ],
      "metadata": {
        "id": "cXmh5Yg6a0bX"
      }
    },
    {
      "cell_type": "markdown",
      "source": [
        "**Separação dos dados em conjunto de treino e testes e implementação de validação cruzada**"
      ],
      "metadata": {
        "id": "Mvqvq8X7hXJv"
      }
    },
    {
      "cell_type": "code",
      "source": [
        "seed = 7 # semente aleatória\n",
        "\n",
        "# Separação em bases de treino e teste (holdout)\n",
        "dados = dataset.values\n",
        "X = dados[:,3:20] # atributos\n",
        "y = dados[:,2] # classe (target)\n",
        "\n",
        "#X_train, X_test, y_train, y_test = train_test_split(X, y, test_size=0.30, random_state=7) # faz a divisão\n",
        "\n",
        "X_train, X_test, y_train, y_test = train_test_split(X, y, test_size=0.30, shuffle=True, random_state=seed, stratify=y) # holdout com estratificação\n",
        "\n",
        "# Criando os folds para a validação cruzada\n",
        "num_particoes = 10 # número de folds da validação cruzada\n",
        "scoring='neg_mean_squared_error'\n",
        "kfold = StratifiedKFold(n_splits=num_particoes, shuffle=True, random_state=seed) # validação cruzada com estratificação\n"
      ],
      "metadata": {
        "id": "GmIf6eFD0l6a"
      },
      "execution_count": 83,
      "outputs": []
    },
    {
      "cell_type": "markdown",
      "source": [
        "# **Modelagem e Inferência**"
      ],
      "metadata": {
        "id": "thTDkUP-2Xcr"
      }
    },
    {
      "cell_type": "markdown",
      "source": [
        "**Criação dos modelos e da pipeline**"
      ],
      "metadata": {
        "id": "LliOLPxiqpWP"
      }
    },
    {
      "cell_type": "code",
      "source": [
        "# Definindo uma seed global para esta célula de código\n",
        "np.random.seed(7)\n",
        "\n",
        "# Listas para armazenar os modelos, os resultados e os nomes dos modelos\n",
        "#models = []\n",
        "results = []\n",
        "names = []\n",
        "pipelines = []\n",
        "\n",
        "#Algorítmos\n",
        "reg_lin = ('LR', LinearRegression())\n",
        "ridge = ('Ridge', Ridge())\n",
        "lasso = ('Lasso', Lasso())\n",
        "knn = ('KNN', KNeighborsRegressor())\n",
        "cart = ('CART', DecisionTreeRegressor())\n",
        "svr = ('SVR', SVR())\n",
        "\n",
        "# Preparando os modelos e adicionando-os na pipeline\n",
        "pipelines.append(('LR', Pipeline([reg_lin])))\n",
        "pipelines.append(('Ridge',  Pipeline([ridge])))\n",
        "pipelines.append(('Lasso',  Pipeline([lasso])))\n",
        "pipelines.append(('KNN',  Pipeline([knn])))\n",
        "pipelines.append(('CART',  Pipeline([cart])))\n",
        "pipelines.append(('SVR',  Pipeline([svr])))\n"
      ],
      "metadata": {
        "id": "kd-P_Wyi2MJa"
      },
      "execution_count": 84,
      "outputs": []
    },
    {
      "cell_type": "markdown",
      "source": [
        "**Avaliação dos modelos e transformações de padronização e normalização**\n",
        "\n",
        "\n",
        "\n"
      ],
      "metadata": {
        "id": "9YOMbgG_sMCX"
      }
    },
    {
      "cell_type": "code",
      "source": [
        "# Transformações que serão utilizadas\n",
        "standard_scaler = ('StandardScaler', StandardScaler()) # padronização do dataset\n",
        "min_max_scaler = ('MinMaxScaler', MinMaxScaler()) # normalização do dataset\n",
        "\n",
        "# Montagem dos pipelines\n",
        "\n",
        "# Dataset Padronizado\n",
        "pipelines.append(('LR-padronizado', Pipeline([standard_scaler, reg_lin])))\n",
        "pipelines.append(('Ridge-padronizado', Pipeline([standard_scaler, ridge])))\n",
        "pipelines.append(('Lasso-padronizado', Pipeline([standard_scaler, lasso])))\n",
        "pipelines.append(('KNN-padronizado', Pipeline([standard_scaler, knn])))\n",
        "pipelines.append(('CART-padronizado', Pipeline([standard_scaler, cart])))\n",
        "pipelines.append(('SVR-padronizado', Pipeline([standard_scaler, svr])))\n",
        "\n",
        "\n",
        "# Dataset Normalizado\n",
        "pipelines.append(('LR-normalizado', Pipeline([min_max_scaler, reg_lin])))\n",
        "pipelines.append(('Ridge-normalizado', Pipeline([min_max_scaler, ridge])))\n",
        "pipelines.append(('Lasso-normalizado', Pipeline([min_max_scaler, lasso])))\n",
        "pipelines.append(('KNN-normalizado', Pipeline([min_max_scaler, knn])))\n",
        "pipelines.append(('CART-normalizado', Pipeline([min_max_scaler, cart])))\n",
        "pipelines.append(('SVR-normalizado', Pipeline([min_max_scaler, svr])))\n",
        "\n",
        "# Avaliação dos modelos\n",
        "for name, model in pipelines:\n",
        "  cv_results = cross_val_score(model, X_train, y_train, cv=kfold, scoring=scoring)\n",
        "  results.append(cv_results)\n",
        "  names.append(name)\n",
        "  # visualização do MSE, desvio padrão do MSE e RMSE dos 10 resultados da validação cruzada\n",
        "  res_metrics = \"%s: (MSE) %0.2f (%0.2f) - (MSE) %0.2f\" % (name, abs(cv_results.mean()), cv_results.std(), np.sqrt(abs(cv_results.mean())))\n",
        "  print(res_metrics)"
      ],
      "metadata": {
        "colab": {
          "base_uri": "https://localhost:8080/"
        },
        "id": "xjMYI7sZKwqt",
        "outputId": "b7e828b3-e5c7-419c-a70d-de05fb8a0dc8"
      },
      "execution_count": 85,
      "outputs": [
        {
          "output_type": "stream",
          "name": "stdout",
          "text": [
            "LR: (MSE) 74.76 (1.00) - (MSE) 8.65\n",
            "Ridge: (MSE) 74.76 (1.00) - (MSE) 8.65\n",
            "Lasso: (MSE) 74.15 (0.71) - (MSE) 8.61\n",
            "KNN: (MSE) 87.21 (3.72) - (MSE) 9.34\n",
            "CART: (MSE) 154.56 (8.45) - (MSE) 12.43\n",
            "SVR: (MSE) 75.41 (1.70) - (MSE) 8.68\n",
            "LR-padronizado: (MSE) 74.76 (1.00) - (MSE) 8.65\n",
            "Ridge-padronizado: (MSE) 74.76 (1.00) - (MSE) 8.65\n",
            "Lasso-padronizado: (MSE) 74.24 (0.49) - (MSE) 8.62\n",
            "KNN-padronizado: (MSE) 92.11 (3.25) - (MSE) 9.60\n",
            "CART-padronizado: (MSE) 152.53 (9.21) - (MSE) 12.35\n",
            "SVR-padronizado: (MSE) 76.73 (1.70) - (MSE) 8.76\n",
            "LR-normalizado: (MSE) 74.76 (1.00) - (MSE) 8.65\n",
            "Ridge-normalizado: (MSE) 74.75 (1.00) - (MSE) 8.65\n",
            "Lasso-normalizado: (MSE) 74.24 (0.49) - (MSE) 8.62\n",
            "KNN-normalizado: (MSE) 92.02 (3.66) - (MSE) 9.59\n",
            "CART-normalizado: (MSE) 155.31 (5.89) - (MSE) 12.46\n",
            "SVR-normalizado: (MSE) 76.80 (1.79) - (MSE) 8.76\n"
          ]
        }
      ]
    },
    {
      "cell_type": "markdown",
      "source": [
        "**Gráfico de comparação dos modelos**"
      ],
      "metadata": {
        "id": "tOhFQbXPrIw-"
      }
    },
    {
      "cell_type": "code",
      "source": [
        "# Boxplot de comparação dos modelos\n",
        "fig = plt.figure(figsize=(15,6))\n",
        "fig.suptitle('Comparação do MSE dos Modelos')\n",
        "ax = fig.add_subplot(111)\n",
        "plt.boxplot(results)\n",
        "ax.set_xticklabels(names, rotation = 90)\n",
        "plt.show()"
      ],
      "metadata": {
        "colab": {
          "base_uri": "https://localhost:8080/",
          "height": 699
        },
        "id": "C9I9sTKD27nj",
        "outputId": "9d7f605c-dd34-4659-a254-a20127cfefc2"
      },
      "execution_count": 65,
      "outputs": [
        {
          "output_type": "display_data",
          "data": {
            "text/plain": [
              "<Figure size 1500x600 with 1 Axes>"
            ],
            "image/png": "[encoded data removed]"
          },
          "metadata": {}
        }
      ]
    },
    {
      "cell_type": "markdown",
      "source": [
        "**Otimização de hiperparâmetros**\n",
        "\n",
        "Conforme a avaliação utilizando validação cruzada, os modelos que melhor apresentraram o erro quadrático médio (MSE) e raiz do erro quadrático médio (RMSE) foi Regressão linear e os seus métodos de regularização (Ridge e Lasso), com uma pequena vantagem para o modelo Lasso.\n",
        "\n",
        "Dessa forma, para tentativa de melhorar a precisão do modelo escolhido, foi realizada a otimização dos hiperparâmetros somente para o modelo de Regressão Linear com regularização Lasso."
      ],
      "metadata": {
        "id": "isctZCPp9PZM"
      }
    },
    {
      "cell_type": "code",
      "source": [
        "np.random.seed(7)\n",
        "\n",
        "pipelines = []\n",
        "\n",
        "standard_scaler = ('StandardScaler', StandardScaler())\n",
        "min_max_scaler = ('MinMaxScaler', MinMaxScaler())\n",
        "lasso = ('Lasso', Lasso())\n",
        "\n",
        "pipelines.append(('Lasso-orig', Pipeline(steps=([lasso]))))\n",
        "pipelines.append(('Lasso-padr', Pipeline(steps=([standard_scaler, lasso]))))\n",
        "pipelines.append(('Lasso-norm', Pipeline(steps=([min_max_scaler, lasso]))))\n",
        "\n",
        "# Definição dos hiperparâmetros a serem otimizados\n",
        "param_grid = {\n",
        "    'Lasso__alpha': [0.001, 0.01, 0.1, 1, 10, 100],\n",
        "    'Lasso__fit_intercept': [True],\n",
        "    'Lasso__positive': [True]\n",
        "}\n",
        "\n",
        "for name, model in pipelines:\n",
        "  grid_search = GridSearchCV(estimator=model, param_grid=param_grid, cv=kfold, scoring=scoring) # Implementa o Grid Search com Cross-Validation\n",
        "  grid_search.fit(X_train, y_train) # Ajuste o modelo com os hiperparâmetros otimizados\n",
        "  print(\"Sem tratamento de missings: %s - Melhor: %f usando %s\" % (name, grid_search.best_score_, grid_search.best_params_))\n",
        "\n",
        "\n",
        "best_model = grid_search.best_estimator_\n",
        "\n",
        "print(\"Melhor modelo: \", best_model)"
      ],
      "metadata": {
        "colab": {
          "base_uri": "https://localhost:8080/"
        },
        "id": "QQfeAeWz9XtU",
        "outputId": "011fc4df-61ac-47ac-f0a1-c2ce3d2bb804"
      },
      "execution_count": 86,
      "outputs": [
        {
          "output_type": "stream",
          "name": "stdout",
          "text": [
            "Sem tratamento de missings: Lasso-orig - Melhor: -74.040920 usando {'Lasso__alpha': 1, 'Lasso__fit_intercept': True, 'Lasso__positive': True}\n",
            "Sem tratamento de missings: Lasso-padr - Melhor: -74.236755 usando {'Lasso__alpha': 1, 'Lasso__fit_intercept': True, 'Lasso__positive': True}\n",
            "Sem tratamento de missings: Lasso-norm - Melhor: -74.148191 usando {'Lasso__alpha': 0.1, 'Lasso__fit_intercept': True, 'Lasso__positive': True}\n",
            "Melhor modelo:  Pipeline(steps=[('MinMaxScaler', MinMaxScaler()),\n",
            "                ('Lasso', Lasso(alpha=0.1, positive=True))])\n"
          ]
        }
      ]
    },
    {
      "cell_type": "markdown",
      "source": [
        "Conforme o resultado acima, o modelo que apresenta o MSE e RMSE mais próximo de zero é o modelo Lasso com normalização dos dados."
      ],
      "metadata": {
        "id": "4achKhYvAyHQ"
      }
    },
    {
      "cell_type": "markdown",
      "source": [
        "# **Avaliação do modelo com os dados de teste**"
      ],
      "metadata": {
        "id": "zTItljwA7jbC"
      }
    },
    {
      "cell_type": "code",
      "source": [
        "# Avaliação do modelo com o conjunto de testes\n",
        "\n",
        "# Preparação do modelo\n",
        "scaler = MinMaxScaler().fit(X_train) # normalização dos dados de treino\n",
        "rescaledX = scaler.transform(X_train) # aplicação da padronização no conjunto de treino\n",
        "model = Lasso()\n",
        "model.fit(rescaledX, y_train)\n",
        "\n",
        "# Estimativa do aMSE e o RMSE nos dados de teste\n",
        "rescaledTestX = scaler.transform(X_test) # aplicação da padronização nos dados de teste\n",
        "predictions = model.predict(rescaledTestX)\n",
        "mse = mean_squared_error(y_test, predictions)\n",
        "print(\"MSE %0.2f\" % mse)\n",
        "print(\"RMSE %0.2f\" % np.sqrt(abs(mse)))\n"
      ],
      "metadata": {
        "colab": {
          "base_uri": "https://localhost:8080/"
        },
        "id": "db_jBrw87qCi",
        "outputId": "dbfe4bb7-19f2-41be-90cf-e67d45e06dc7"
      },
      "execution_count": 87,
      "outputs": [
        {
          "output_type": "stream",
          "name": "stdout",
          "text": [
            "MSE 74.14\n",
            "RMSE 8.61\n"
          ]
        }
      ]
    },
    {
      "cell_type": "markdown",
      "source": [
        "# **Conclusão**"
      ],
      "metadata": {
        "id": "92fJqmVvm0ti"
      }
    },
    {
      "cell_type": "markdown",
      "source": [
        "  O objetivo do trabalho é avaliar o nível de estresse de um indivíduo através de variáveis de aspaectos físicos, fisiológicos e comportamentais. Por se tratar de um problema de regressão, as métricas de avaliação utilizadas foram erro quadrático médio (MSE) e raiz do erro quadrático médio (RMSE).\n",
        "\n",
        "  Foram utilizados métodos de regularização Ridge e Lasso para minimizar a soma do erro quadrático.\n",
        "\n",
        "  Com objetivo de melhorar o resultado, foi realizada a tranformação dos dados utilizando os métodos de normalização e padronização, sendo que o melhor resultado foi a aplicação somente da normalização dos dados.\n",
        "\n",
        "  A otimização dos hiperparâmetros do método escolhido foi realizada com vista a melhora do resultado, sendo que nem todos os parâmetros do modelo foram escolhidos para o obejtivo proposto.\n",
        "\n",
        "  Por fim, o modelo de Regressão Linear com método de regularização Lasso, a transformação dos dados utilizado normalização e a otimização dos hiperparâmetros (alpha e positive) obtiveram o menor MSE e RMSE, tornando as melhores opções para implementaçao de Machine Learning para o problema proposto."
      ],
      "metadata": {
        "id": "imo3RcGrv3Pl"
      }
    }
  ]
}