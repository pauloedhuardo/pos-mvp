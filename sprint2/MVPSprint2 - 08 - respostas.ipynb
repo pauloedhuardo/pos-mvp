{
 "cells": [
  {
   "cell_type": "markdown",
   "metadata": {
    "application/vnd.databricks.v1+cell": {
     "cellMetadata": {},
     "inputWidgets": {},
     "nuid": "69810c90-e118-4114-9502-7b198a382824",
     "showTitle": false,
     "tableResultSettingsMap": {},
     "title": ""
    }
   },
   "source": [
    "### Respondendo as perguntas objeto do projeto"
   ]
  },
  {
   "cell_type": "code",
   "execution_count": 0,
   "metadata": {
    "application/vnd.databricks.v1+cell": {
     "cellMetadata": {},
     "inputWidgets": {},
     "nuid": "fd68f4f5-4cd6-46eb-b941-ea059866f426",
     "showTitle": true,
     "tableResultSettingsMap": {},
     "title": "Verificando as colunas da tabela fato_cumprimento_mandado"
    }
   },
   "outputs": [],
   "source": [
    "%sql\n",
    "SELECT * FROM gold.fato_cumprimento_mandado LIMIT 1000;"
   ]
  },
  {
   "cell_type": "markdown",
   "metadata": {
    "application/vnd.databricks.v1+cell": {
     "cellMetadata": {},
     "inputWidgets": {},
     "nuid": "6a512a48-4cd6-438f-ab86-856fc49d0eb2",
     "showTitle": false,
     "tableResultSettingsMap": {},
     "title": ""
    }
   },
   "source": [
    "##### 1. Qual o total de mandados distribuídos?  "
   ]
  },
  {
   "cell_type": "code",
   "execution_count": 0,
   "metadata": {
    "application/vnd.databricks.v1+cell": {
     "cellMetadata": {
      "byteLimit": 2048000,
      "implicitDf": true,
      "rowLimit": 10000
     },
     "inputWidgets": {},
     "nuid": "1010bd1a-37b4-4734-9d6d-a6be95ba4767",
     "showTitle": true,
     "tableResultSettingsMap": {},
     "title": "Verifica o total de mandados distribuídos"
    }
   },
   "outputs": [
    {
     "output_type": "display_data",
     "data": {
      "text/html": [
       "<style scoped>\n",
       "  .table-result-container {\n",
       "    max-height: 300px;\n",
       "    overflow: auto;\n",
       "  }\n",
       "  table, th, td {\n",
       "    border: 1px solid black;\n",
       "    border-collapse: collapse;\n",
       "  }\n",
       "  th, td {\n",
       "    padding: 5px;\n",
       "  }\n",
       "  th {\n",
       "    text-align: left;\n",
       "  }\n",
       "</style><div class='table-result-container'><table class='table-result'><thead style='background-color: white'><tr><th>mandados_cumpridos</th></tr></thead><tbody><tr><td>1245109</td></tr></tbody></table></div>"
      ]
     },
     "metadata": {
      "application/vnd.databricks.v1+output": {
       "addedWidgets": {},
       "aggData": [],
       "aggError": "",
       "aggOverflow": false,
       "aggSchema": [],
       "aggSeriesLimitReached": false,
       "aggType": "",
       "arguments": {},
       "columnCustomDisplayInfos": {},
       "data": [
        [
         1245109
        ]
       ],
       "datasetInfos": [],
       "dbfsResultPath": null,
       "isJsonSchema": true,
       "metadata": {},
       "overflow": false,
       "plotOptions": {
        "customPlotOptions": {},
        "displayType": "table",
        "pivotAggregation": null,
        "pivotColumns": null,
        "xColumns": null,
        "yColumns": null
       },
       "removedWidgets": [],
       "schema": [
        {
         "metadata": "{}",
         "name": "mandados_cumpridos",
         "type": "\"long\""
        }
       ],
       "type": "table"
      }
     },
     "output_type": "display_data"
    }
   ],
   "source": [
    "%sql\n",
    "SELECT count(codigo_mandado) AS mandados_distribuidos FROM gold.fato_cumprimento_mandado;"
   ]
  },
  {
   "cell_type": "markdown",
   "metadata": {
    "application/vnd.databricks.v1+cell": {
     "cellMetadata": {},
     "inputWidgets": {},
     "nuid": "7c7bbabd-c559-4104-8f7a-46ee31aac88c",
     "showTitle": false,
     "tableResultSettingsMap": {},
     "title": ""
    }
   },
   "source": [
    "##### 2. Qual o total de mandados cumpridos?"
   ]
  },
  {
   "cell_type": "code",
   "execution_count": 0,
   "metadata": {
    "application/vnd.databricks.v1+cell": {
     "cellMetadata": {
      "byteLimit": 2048000,
      "implicitDf": true,
      "rowLimit": 10000
     },
     "inputWidgets": {},
     "nuid": "046087db-fab0-4490-8b0e-7ea509d988c5",
     "showTitle": true,
     "tableResultSettingsMap": {},
     "title": "Verifica o total de mandados cumpridos"
    }
   },
   "outputs": [
    {
     "output_type": "display_data",
     "data": {
      "text/html": [
       "<style scoped>\n",
       "  .table-result-container {\n",
       "    max-height: 300px;\n",
       "    overflow: auto;\n",
       "  }\n",
       "  table, th, td {\n",
       "    border: 1px solid black;\n",
       "    border-collapse: collapse;\n",
       "  }\n",
       "  th, td {\n",
       "    padding: 5px;\n",
       "  }\n",
       "  th {\n",
       "    text-align: left;\n",
       "  }\n",
       "</style><div class='table-result-container'><table class='table-result'><thead style='background-color: white'><tr><th>mandados_cumpridos</th></tr></thead><tbody><tr><td>1245109</td></tr></tbody></table></div>"
      ]
     },
     "metadata": {
      "application/vnd.databricks.v1+output": {
       "addedWidgets": {},
       "aggData": [],
       "aggError": "",
       "aggOverflow": false,
       "aggSchema": [],
       "aggSeriesLimitReached": false,
       "aggType": "",
       "arguments": {},
       "columnCustomDisplayInfos": {},
       "data": [
        [
         1245109
        ]
       ],
       "datasetInfos": [],
       "dbfsResultPath": null,
       "isJsonSchema": true,
       "metadata": {},
       "overflow": false,
       "plotOptions": {
        "customPlotOptions": {},
        "displayType": "table",
        "pivotAggregation": null,
        "pivotColumns": null,
        "xColumns": null,
        "yColumns": null
       },
       "removedWidgets": [],
       "schema": [
        {
         "metadata": "{}",
         "name": "mandados_cumpridos",
         "type": "\"long\""
        }
       ],
       "type": "table"
      }
     },
     "output_type": "display_data"
    }
   ],
   "source": [
    "%sql\n",
    "SELECT count(codigo_cumprimento) AS mandados_cumpridos  FROM gold.fato_cumprimento_mandado;"
   ]
  },
  {
   "cell_type": "markdown",
   "metadata": {
    "application/vnd.databricks.v1+cell": {
     "cellMetadata": {},
     "inputWidgets": {},
     "nuid": "93b39dd8-f570-48d3-965d-6b8b045c1169",
     "showTitle": false,
     "tableResultSettingsMap": {},
     "title": ""
    }
   },
   "source": [
    "##### 3. Qual a quantidade de mandados cumpridos por tipo de mandado?"
   ]
  },
  {
   "cell_type": "code",
   "execution_count": 0,
   "metadata": {
    "application/vnd.databricks.v1+cell": {
     "cellMetadata": {
      "byteLimit": 2048000,
      "implicitDf": true,
      "rowLimit": 10000
     },
     "inputWidgets": {},
     "nuid": "2bc7e807-b54a-402b-b856-f8604775b50b",
     "showTitle": false,
     "tableResultSettingsMap": {},
     "title": ""
    }
   },
   "outputs": [
    {
     "output_type": "display_data",
     "data": {
      "text/html": [
       "<style scoped>\n",
       "  .table-result-container {\n",
       "    max-height: 300px;\n",
       "    overflow: auto;\n",
       "  }\n",
       "  table, th, td {\n",
       "    border: 1px solid black;\n",
       "    border-collapse: collapse;\n",
       "  }\n",
       "  th, td {\n",
       "    padding: 5px;\n",
       "  }\n",
       "  th {\n",
       "    text-align: left;\n",
       "  }\n",
       "</style><div class='table-result-container'><table class='table-result'><thead style='background-color: white'><tr><th>tipo_mandado</th><th>quantidade_cumprimento</th></tr></thead><tbody><tr><td>Intimação</td><td>457094</td></tr><tr><td>Intimação para Audiência</td><td>335537</td></tr><tr><td>Citação</td><td>214845</td></tr><tr><td>Citação e Intimação para Audiência</td><td>72411</td></tr><tr><td>Notificação</td><td>65139</td></tr><tr><td>Intimação de Sentença</td><td>63950</td></tr><tr><td>Penhora e/ou avaliação</td><td>16633</td></tr><tr><td>Busca e Apreensão</td><td>11174</td></tr><tr><td>Intimação Despacho</td><td>5295</td></tr><tr><td>Prisão</td><td>2069</td></tr><tr><td>Citação e/ou Intimação com Liminar</td><td>345</td></tr><tr><td>Reintegração de Posse</td><td>260</td></tr><tr><td>MPU - Medida Protetiva de Urgência</td><td>116</td></tr><tr><td>Para Atendimento Psicossocial</td><td>75</td></tr><tr><td>Alvará de Soltura</td><td>44</td></tr><tr><td>Condução</td><td>33</td></tr><tr><td>Medida Cautelar</td><td>28</td></tr><tr><td>Inquirição de Testemunha</td><td>20</td></tr><tr><td>Citação por Hora Certa</td><td>14</td></tr><tr><td>Internação</td><td>14</td></tr><tr><td>Interrogatório</td><td>6</td></tr><tr><td>Adjudicação</td><td>4</td></tr><tr><td>Depoimento Pessoal</td><td>2</td></tr><tr><td>Para comparecimento à DIAPEMA</td><td>1</td></tr></tbody></table></div>"
      ]
     },
     "metadata": {
      "application/vnd.databricks.v1+output": {
       "addedWidgets": {},
       "aggData": [],
       "aggError": "",
       "aggOverflow": false,
       "aggSchema": [],
       "aggSeriesLimitReached": false,
       "aggType": "",
       "arguments": {},
       "columnCustomDisplayInfos": {},
       "data": [
        [
         "Intimação",
         457094
        ],
        [
         "Intimação para Audiência",
         335537
        ],
        [
         "Citação",
         214845
        ],
        [
         "Citação e Intimação para Audiência",
         72411
        ],
        [
         "Notificação",
         65139
        ],
        [
         "Intimação de Sentença",
         63950
        ],
        [
         "Penhora e/ou avaliação",
         16633
        ],
        [
         "Busca e Apreensão",
         11174
        ],
        [
         "Intimação Despacho",
         5295
        ],
        [
         "Prisão",
         2069
        ],
        [
         "Citação e/ou Intimação com Liminar",
         345
        ],
        [
         "Reintegração de Posse",
         260
        ],
        [
         "MPU - Medida Protetiva de Urgência",
         116
        ],
        [
         "Para Atendimento Psicossocial",
         75
        ],
        [
         "Alvará de Soltura",
         44
        ],
        [
         "Condução",
         33
        ],
        [
         "Medida Cautelar",
         28
        ],
        [
         "Inquirição de Testemunha",
         20
        ],
        [
         "Citação por Hora Certa",
         14
        ],
        [
         "Internação",
         14
        ],
        [
         "Interrogatório",
         6
        ],
        [
         "Adjudicação",
         4
        ],
        [
         "Depoimento Pessoal",
         2
        ],
        [
         "Para comparecimento à DIAPEMA",
         1
        ]
       ],
       "datasetInfos": [],
       "dbfsResultPath": null,
       "isJsonSchema": true,
       "metadata": {},
       "overflow": false,
       "plotOptions": {
        "customPlotOptions": {},
        "displayType": "table",
        "pivotAggregation": null,
        "pivotColumns": null,
        "xColumns": null,
        "yColumns": null
       },
       "removedWidgets": [],
       "schema": [
        {
         "metadata": "{}",
         "name": "tipo_mandado",
         "type": "\"string\""
        },
        {
         "metadata": "{}",
         "name": "quantidade_cumprimento",
         "type": "\"long\""
        }
       ],
       "type": "table"
      }
     },
     "output_type": "display_data"
    }
   ],
   "source": [
    "%sql\n",
    "SELECT tipo_mandado, count(codigo_cumprimento) AS quantidade_cumprimento\n",
    "FROM gold.fato_cumprimento_mandado\n",
    "GROUP BY tipo_mandado\n",
    "ORDER BY quantidade_cumprimento DESC\n"
   ]
  },
  {
   "cell_type": "markdown",
   "metadata": {
    "application/vnd.databricks.v1+cell": {
     "cellMetadata": {},
     "inputWidgets": {},
     "nuid": "c1b0f0af-e3f3-412a-9f2d-6ac0c4d022de",
     "showTitle": false,
     "tableResultSettingsMap": {},
     "title": ""
    }
   },
   "source": [
    "##### 4. Quantos mandados foram cumpridos utilizando aplicativo e quantos utilizando sistema judicial?"
   ]
  },
  {
   "cell_type": "code",
   "execution_count": 0,
   "metadata": {
    "application/vnd.databricks.v1+cell": {
     "cellMetadata": {
      "byteLimit": 2048000,
      "implicitDf": true,
      "rowLimit": 10000
     },
     "inputWidgets": {},
     "nuid": "e6250137-246c-42e0-b7e6-9d8c03fd6402",
     "showTitle": true,
     "tableResultSettingsMap": {},
     "title": "Verifica a quantidade de cumprimentos por origem"
    }
   },
   "outputs": [
    {
     "output_type": "display_data",
     "data": {
      "text/html": [
       "<style scoped>\n",
       "  .table-result-container {\n",
       "    max-height: 300px;\n",
       "    overflow: auto;\n",
       "  }\n",
       "  table, th, td {\n",
       "    border: 1px solid black;\n",
       "    border-collapse: collapse;\n",
       "  }\n",
       "  th, td {\n",
       "    padding: 5px;\n",
       "  }\n",
       "  th {\n",
       "    text-align: left;\n",
       "  }\n",
       "</style><div class='table-result-container'><table class='table-result'><thead style='background-color: white'><tr><th>origem_cumprimento</th><th>quantidade_cumprimentos</th></tr></thead><tbody><tr><td>SISTEMA_JUDICIAL</td><td>1143825</td></tr><tr><td>APLICATIVO</td><td>101284</td></tr></tbody></table></div>"
      ]
     },
     "metadata": {
      "application/vnd.databricks.v1+output": {
       "addedWidgets": {},
       "aggData": [],
       "aggError": "",
       "aggOverflow": false,
       "aggSchema": [],
       "aggSeriesLimitReached": false,
       "aggType": "",
       "arguments": {},
       "columnCustomDisplayInfos": {},
       "data": [
        [
         "SISTEMA_JUDICIAL",
         1143825
        ],
        [
         "APLICATIVO",
         101284
        ]
       ],
       "datasetInfos": [],
       "dbfsResultPath": null,
       "isJsonSchema": true,
       "metadata": {},
       "overflow": false,
       "plotOptions": {
        "customPlotOptions": {},
        "displayType": "table",
        "pivotAggregation": null,
        "pivotColumns": null,
        "xColumns": null,
        "yColumns": null
       },
       "removedWidgets": [],
       "schema": [
        {
         "metadata": "{}",
         "name": "origem_cumprimento",
         "type": "\"string\""
        },
        {
         "metadata": "{}",
         "name": "quantidade_cumprimentos",
         "type": "\"long\""
        }
       ],
       "type": "table"
      }
     },
     "output_type": "display_data"
    }
   ],
   "source": [
    "%sql\n",
    "SELECT origem_cumprimento, count(codigo_cumprimento) AS quantidade_cumprimentos\n",
    "FROM gold.fato_cumprimento_mandado\n",
    "GROUP BY origem_cumprimento;"
   ]
  },
  {
   "cell_type": "markdown",
   "metadata": {
    "application/vnd.databricks.v1+cell": {
     "cellMetadata": {},
     "inputWidgets": {},
     "nuid": "37be9a29-c39f-407d-8b78-9f46c0ff9ef9",
     "showTitle": false,
     "tableResultSettingsMap": {},
     "title": ""
    }
   },
   "source": [
    "##### 5. Qual os oficiais de justiça que mais cumpriram mandados?"
   ]
  },
  {
   "cell_type": "code",
   "execution_count": 0,
   "metadata": {
    "application/vnd.databricks.v1+cell": {
     "cellMetadata": {
      "byteLimit": 2048000,
      "implicitDf": true,
      "rowLimit": 10000
     },
     "inputWidgets": {},
     "nuid": "4ad8f8e0-3d8b-4150-9621-952356949e96",
     "showTitle": false,
     "tableResultSettingsMap": {},
     "title": ""
    }
   },
   "outputs": [
    {
     "output_type": "display_data",
     "data": {
      "text/html": [
       "<style scoped>\n",
       "  .table-result-container {\n",
       "    max-height: 300px;\n",
       "    overflow: auto;\n",
       "  }\n",
       "  table, th, td {\n",
       "    border: 1px solid black;\n",
       "    border-collapse: collapse;\n",
       "  }\n",
       "  th, td {\n",
       "    padding: 5px;\n",
       "  }\n",
       "  th {\n",
       "    text-align: left;\n",
       "  }\n",
       "</style><div class='table-result-container'><table class='table-result'><thead style='background-color: white'><tr><th>nome_ofical_justica</th><th>quantidade_cumprimentos</th></tr></thead><tbody><tr><td>EUNICE MACHADO MOREIRA</td><td>146559</td></tr><tr><td>LUIZ AUGUSTO FERNANDES</td><td>85752</td></tr><tr><td>ANTONIO DANTAS DA SILVA JUNIOR</td><td>63708</td></tr><tr><td>LENILSON GOMES DA SILVA</td><td>26374</td></tr><tr><td>DANTE ROQUE MARTINS BIANECK</td><td>25986</td></tr><tr><td>ANTONIO EDIMILSON VITALINO DE SOUSA</td><td>22013</td></tr><tr><td>JOELSON DE ASSIS SALLES</td><td>21373</td></tr><tr><td>MÁRCIO ANDRÉ DE SOUSA SOBRAL</td><td>20482</td></tr><tr><td>JOÃO CRESO DE OLIVEIRA</td><td>16778</td></tr><tr><td>ARGEMIRO FERREIRA DA SILVA</td><td>16670</td></tr></tbody></table></div>"
      ]
     },
     "metadata": {
      "application/vnd.databricks.v1+output": {
       "addedWidgets": {},
       "aggData": [],
       "aggError": "",
       "aggOverflow": false,
       "aggSchema": [],
       "aggSeriesLimitReached": false,
       "aggType": "",
       "arguments": {},
       "columnCustomDisplayInfos": {},
       "data": [
        [
         "EUNICE MACHADO MOREIRA",
         146559
        ],
        [
         "LUIZ AUGUSTO FERNANDES",
         85752
        ],
        [
         "ANTONIO DANTAS DA SILVA JUNIOR",
         63708
        ],
        [
         "LENILSON GOMES DA SILVA",
         26374
        ],
        [
         "DANTE ROQUE MARTINS BIANECK",
         25986
        ],
        [
         "ANTONIO EDIMILSON VITALINO DE SOUSA",
         22013
        ],
        [
         "JOELSON DE ASSIS SALLES",
         21373
        ],
        [
         "MÁRCIO ANDRÉ DE SOUSA SOBRAL",
         20482
        ],
        [
         "JOÃO CRESO DE OLIVEIRA",
         16778
        ],
        [
         "ARGEMIRO FERREIRA DA SILVA",
         16670
        ]
       ],
       "datasetInfos": [],
       "dbfsResultPath": null,
       "isJsonSchema": true,
       "metadata": {},
       "overflow": false,
       "plotOptions": {
        "customPlotOptions": {},
        "displayType": "table",
        "pivotAggregation": null,
        "pivotColumns": null,
        "xColumns": null,
        "yColumns": null
       },
       "removedWidgets": [],
       "schema": [
        {
         "metadata": "{}",
         "name": "nome_ofical_justica",
         "type": "\"string\""
        },
        {
         "metadata": "{}",
         "name": "quantidade_cumprimentos",
         "type": "\"long\""
        }
       ],
       "type": "table"
      }
     },
     "output_type": "display_data"
    }
   ],
   "source": [
    "%sql\n",
    "SELECT nome_ofical_justica, count(codigo_cumprimento) AS quantidade_cumprimentos\n",
    "FROM gold.fato_cumprimento_mandado\n",
    "GROUP BY nome_ofical_justica\n",
    "ORDER BY quantidade_cumprimentos DESC;"
   ]
  },
  {
   "cell_type": "markdown",
   "metadata": {
    "application/vnd.databricks.v1+cell": {
     "cellMetadata": {},
     "inputWidgets": {},
     "nuid": "29683ca0-d95e-4838-894b-f362f1957b4c",
     "showTitle": false,
     "tableResultSettingsMap": {},
     "title": ""
    }
   },
   "source": [
    "##### 6. Qual os oficiais de justiça que mais cumpriram mandados pelo aplicativo?"
   ]
  },
  {
   "cell_type": "code",
   "execution_count": 0,
   "metadata": {
    "application/vnd.databricks.v1+cell": {
     "cellMetadata": {
      "byteLimit": 2048000,
      "implicitDf": true,
      "rowLimit": 10000
     },
     "inputWidgets": {},
     "nuid": "cafb184e-c376-46af-a55f-77a9a5ee0f5f",
     "showTitle": false,
     "tableResultSettingsMap": {},
     "title": ""
    }
   },
   "outputs": [
    {
     "output_type": "display_data",
     "data": {
      "text/html": [
       "<style scoped>\n",
       "  .table-result-container {\n",
       "    max-height: 300px;\n",
       "    overflow: auto;\n",
       "  }\n",
       "  table, th, td {\n",
       "    border: 1px solid black;\n",
       "    border-collapse: collapse;\n",
       "  }\n",
       "  th, td {\n",
       "    padding: 5px;\n",
       "  }\n",
       "  th {\n",
       "    text-align: left;\n",
       "  }\n",
       "</style><div class='table-result-container'><table class='table-result'><thead style='background-color: white'><tr><th>nome_ofical_justica</th><th>quantidade_cumprimentos</th><th>origem_cumprimento</th></tr></thead><tbody><tr><td>JECKSON LUIZ TRICHES</td><td>4448</td><td>APLICATIVO</td></tr><tr><td>NARYSON MENDES DE LIMA</td><td>3410</td><td>APLICATIVO</td></tr><tr><td>TITO AURELIO LEITE NUNES JUNIOR</td><td>3044</td><td>APLICATIVO</td></tr><tr><td>MARCOS DA SILVA SANTOS</td><td>2871</td><td>APLICATIVO</td></tr><tr><td>SANDRA CHRISTIANE ARAUJO SOUZA</td><td>2864</td><td>APLICATIVO</td></tr><tr><td>MARCELL SANTOS ROCHA</td><td>2861</td><td>APLICATIVO</td></tr><tr><td>ADEMIR DE AZEVEDO BRAGA</td><td>2746</td><td>APLICATIVO</td></tr><tr><td>LUIS CLÁUDIO DE JESUS SILVA</td><td>2668</td><td>APLICATIVO</td></tr><tr><td>VICTOR MATEUS DE OLIVEIRA TOBIAS</td><td>2664</td><td>APLICATIVO</td></tr><tr><td>ARIANA SILVA COELHO</td><td>2660</td><td>APLICATIVO</td></tr></tbody></table></div>"
      ]
     },
     "metadata": {
      "application/vnd.databricks.v1+output": {
       "addedWidgets": {},
       "aggData": [],
       "aggError": "",
       "aggOverflow": false,
       "aggSchema": [],
       "aggSeriesLimitReached": false,
       "aggType": "",
       "arguments": {},
       "columnCustomDisplayInfos": {},
       "data": [
        [
         "JECKSON LUIZ TRICHES",
         4448,
         "APLICATIVO"
        ],
        [
         "NARYSON MENDES DE LIMA",
         3410,
         "APLICATIVO"
        ],
        [
         "TITO AURELIO LEITE NUNES JUNIOR",
         3044,
         "APLICATIVO"
        ],
        [
         "MARCOS DA SILVA SANTOS",
         2871,
         "APLICATIVO"
        ],
        [
         "SANDRA CHRISTIANE ARAUJO SOUZA",
         2864,
         "APLICATIVO"
        ],
        [
         "MARCELL SANTOS ROCHA",
         2861,
         "APLICATIVO"
        ],
        [
         "ADEMIR DE AZEVEDO BRAGA",
         2746,
         "APLICATIVO"
        ],
        [
         "LUIS CLÁUDIO DE JESUS SILVA",
         2668,
         "APLICATIVO"
        ],
        [
         "VICTOR MATEUS DE OLIVEIRA TOBIAS",
         2664,
         "APLICATIVO"
        ],
        [
         "ARIANA SILVA COELHO",
         2660,
         "APLICATIVO"
        ]
       ],
       "datasetInfos": [],
       "dbfsResultPath": null,
       "isJsonSchema": true,
       "metadata": {},
       "overflow": false,
       "plotOptions": {
        "customPlotOptions": {},
        "displayType": "table",
        "pivotAggregation": null,
        "pivotColumns": null,
        "xColumns": null,
        "yColumns": null
       },
       "removedWidgets": [],
       "schema": [
        {
         "metadata": "{}",
         "name": "nome_ofical_justica",
         "type": "\"string\""
        },
        {
         "metadata": "{}",
         "name": "quantidade_cumprimentos",
         "type": "\"long\""
        },
        {
         "metadata": "{}",
         "name": "origem_cumprimento",
         "type": "\"string\""
        }
       ],
       "type": "table"
      }
     },
     "output_type": "display_data"
    }
   ],
   "source": [
    "%sql\n",
    "SELECT nome_ofical_justica, \n",
    "count(codigo_cumprimento) AS quantidade_cumprimentos, origem_cumprimento\n",
    "FROM gold.fato_cumprimento_mandado\n",
    "WHERE origem_cumprimento = \"APLICATIVO\"\n",
    "GROUP BY nome_ofical_justica, origem_cumprimento\n",
    "ORDER BY quantidade_cumprimentos DESC LIMIT 10;"
   ]
  }
 ],
 "metadata": {
  "application/vnd.databricks.v1+notebook": {
   "computePreferences": null,
   "dashboards": [],
   "environmentMetadata": {
    "base_environment": "",
    "environment_version": "1"
   },
   "inputWidgetPreferences": null,
   "language": "python",
   "notebookMetadata": {
    "mostRecentlyExecutedCommandWithImplicitDF": {
     "commandId": 3794669110303517,
     "dataframes": [
      "_sqldf"
     ]
    },
    "pythonIndentUnit": 4
   },
   "notebookName": "MVPSprint2 - 08 - respostas",
   "widgets": {}
  }
 },
 "nbformat": 4,
 "nbformat_minor": 0
}