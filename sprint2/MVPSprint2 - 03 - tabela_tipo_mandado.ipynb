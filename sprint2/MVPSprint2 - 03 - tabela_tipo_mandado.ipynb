{
 "cells": [
  {
   "cell_type": "markdown",
   "metadata": {
    "application/vnd.databricks.v1+cell": {
     "cellMetadata": {
      "byteLimit": 2048000,
      "rowLimit": 10000
     },
     "inputWidgets": {},
     "nuid": "93e82f04-4482-40d9-8734-bb7cb05e7484",
     "showTitle": false,
     "tableResultSettingsMap": {},
     "title": ""
    }
   },
   "source": [
    "### Ajustando os dados das tabelas dimensões"
   ]
  },
  {
   "cell_type": "markdown",
   "metadata": {
    "application/vnd.databricks.v1+cell": {
     "cellMetadata": {
      "byteLimit": 2048000,
      "rowLimit": 10000
     },
     "inputWidgets": {},
     "nuid": "c58a854a-c604-435a-a341-597e72322d28",
     "showTitle": false,
     "tableResultSettingsMap": {},
     "title": ""
    }
   },
   "source": [
    "##### Tabela de tipos de mandados"
   ]
  },
  {
   "cell_type": "code",
   "execution_count": 0,
   "metadata": {
    "application/vnd.databricks.v1+cell": {
     "cellMetadata": {
      "byteLimit": 2048000,
      "implicitDf": true,
      "rowLimit": 10000
     },
     "inputWidgets": {},
     "nuid": "508b6a91-d74a-45a2-8c41-54776d6c73fc",
     "showTitle": true,
     "tableResultSettingsMap": {},
     "title": "Analisando a tabela \"tipo_mandado\""
    }
   },
   "outputs": [
    {
     "output_type": "display_data",
     "data": {
      "text/html": [
       "<style scoped>\n",
       "  .table-result-container {\n",
       "    max-height: 300px;\n",
       "    overflow: auto;\n",
       "  }\n",
       "  table, th, td {\n",
       "    border: 1px solid black;\n",
       "    border-collapse: collapse;\n",
       "  }\n",
       "  th, td {\n",
       "    padding: 5px;\n",
       "  }\n",
       "  th {\n",
       "    text-align: left;\n",
       "  }\n",
       "</style><div class='table-result-container'><table class='table-result'><thead style='background-color: white'><tr><th>tmid</th><th>tmdtexclusao</th><th>tmdescricao</th></tr></thead><tbody><tr><td>1</td><td>null</td><td>Citação e Intimação para Audiência</td></tr><tr><td>2</td><td>null</td><td>Intimação para Audiência</td></tr><tr><td>3</td><td>null</td><td>Intimação</td></tr><tr><td>4</td><td>null</td><td>Citação</td></tr><tr><td>5</td><td>null</td><td>Intimação Despacho</td></tr><tr><td>6</td><td>null</td><td>Intimação de Sentença</td></tr><tr><td>24</td><td>null</td><td>Notificação</td></tr><tr><td>34</td><td>null</td><td>Prisão</td></tr><tr><td>27</td><td>null</td><td>Reintegração de Posse</td></tr><tr><td>26</td><td>null</td><td>Penhora e/ou avaliação</td></tr><tr><td>11</td><td>null</td><td>Citação/Penhora/Avaliação/Intimação/Depósito</td></tr><tr><td>7</td><td>null</td><td>Busca e Apreensão</td></tr><tr><td>9</td><td>null</td><td>MPU - Medida Protetiva de Urgência</td></tr><tr><td>8</td><td>null</td><td>Citação e/ou Intimação com Liminar</td></tr><tr><td>10</td><td>null</td><td>Afastamento do Lar</td></tr><tr><td>29</td><td>null</td><td>Alvará de Soltura</td></tr><tr><td>12</td><td>null</td><td>Para comparecimento ao Setor Multiprofissional</td></tr><tr><td>13</td><td>null</td><td>Averbação</td></tr><tr><td>14</td><td>null</td><td>Adjudicação</td></tr><tr><td>15</td><td>null</td><td>Depoimento Pessoal</td></tr><tr><td>16</td><td>null</td><td>Para comparecimento à DIAPEMA</td></tr><tr><td>17</td><td>null</td><td>Interrogatório</td></tr><tr><td>18</td><td>null</td><td>Internação</td></tr><tr><td>19</td><td>null</td><td>Medida Cautelar</td></tr><tr><td>20</td><td>null</td><td>Inquirição de Testemunha</td></tr><tr><td>21</td><td>null</td><td>Condução</td></tr><tr><td>25</td><td>null</td><td>Citação por Hora Certa</td></tr><tr><td>22</td><td>2024-07-29T14:15:50.527+0000</td><td>Liminar</td></tr><tr><td>23</td><td>null</td><td>Busca e Apreensão de Crianças e/ou adolescentes</td></tr><tr><td>28</td><td>null</td><td>Para Atendimento Psicossocial</td></tr></tbody></table></div>"
      ]
     },
     "metadata": {
      "application/vnd.databricks.v1+output": {
       "addedWidgets": {},
       "aggData": [],
       "aggError": "",
       "aggOverflow": false,
       "aggSchema": [],
       "aggSeriesLimitReached": false,
       "aggType": "",
       "arguments": {},
       "columnCustomDisplayInfos": {},
       "data": [
        [
         1,
         null,
         "Citação e Intimação para Audiência"
        ],
        [
         2,
         null,
         "Intimação para Audiência"
        ],
        [
         3,
         null,
         "Intimação"
        ],
        [
         4,
         null,
         "Citação"
        ],
        [
         5,
         null,
         "Intimação Despacho"
        ],
        [
         6,
         null,
         "Intimação de Sentença"
        ],
        [
         24,
         null,
         "Notificação"
        ],
        [
         34,
         null,
         "Prisão"
        ],
        [
         27,
         null,
         "Reintegração de Posse"
        ],
        [
         26,
         null,
         "Penhora e/ou avaliação"
        ],
        [
         11,
         null,
         "Citação/Penhora/Avaliação/Intimação/Depósito"
        ],
        [
         7,
         null,
         "Busca e Apreensão"
        ],
        [
         9,
         null,
         "MPU - Medida Protetiva de Urgência"
        ],
        [
         8,
         null,
         "Citação e/ou Intimação com Liminar"
        ],
        [
         10,
         null,
         "Afastamento do Lar"
        ],
        [
         29,
         null,
         "Alvará de Soltura"
        ],
        [
         12,
         null,
         "Para comparecimento ao Setor Multiprofissional"
        ],
        [
         13,
         null,
         "Averbação"
        ],
        [
         14,
         null,
         "Adjudicação"
        ],
        [
         15,
         null,
         "Depoimento Pessoal"
        ],
        [
         16,
         null,
         "Para comparecimento à DIAPEMA"
        ],
        [
         17,
         null,
         "Interrogatório"
        ],
        [
         18,
         null,
         "Internação"
        ],
        [
         19,
         null,
         "Medida Cautelar"
        ],
        [
         20,
         null,
         "Inquirição de Testemunha"
        ],
        [
         21,
         null,
         "Condução"
        ],
        [
         25,
         null,
         "Citação por Hora Certa"
        ],
        [
         22,
         "2024-07-29T14:15:50.527+0000",
         "Liminar"
        ],
        [
         23,
         null,
         "Busca e Apreensão de Crianças e/ou adolescentes"
        ],
        [
         28,
         null,
         "Para Atendimento Psicossocial"
        ]
       ],
       "datasetInfos": [],
       "dbfsResultPath": null,
       "isJsonSchema": true,
       "metadata": {},
       "overflow": false,
       "plotOptions": {
        "customPlotOptions": {},
        "displayType": "table",
        "pivotAggregation": null,
        "pivotColumns": null,
        "xColumns": null,
        "yColumns": null
       },
       "removedWidgets": [],
       "schema": [
        {
         "metadata": "{}",
         "name": "tmid",
         "type": "\"integer\""
        },
        {
         "metadata": "{}",
         "name": "tmdtexclusao",
         "type": "\"timestamp\""
        },
        {
         "metadata": "{}",
         "name": "tmdescricao",
         "type": "\"string\""
        }
       ],
       "type": "table"
      }
     },
     "output_type": "display_data"
    }
   ],
   "source": [
    "%sql\n",
    "SELECT * FROM bronze.tipo_mandado;"
   ]
  },
  {
   "cell_type": "code",
   "execution_count": 0,
   "metadata": {
    "application/vnd.databricks.v1+cell": {
     "cellMetadata": {
      "byteLimit": 2048000,
      "implicitDf": true,
      "rowLimit": 10000
     },
     "inputWidgets": {},
     "nuid": "d3ac0be0-e58a-4b8a-adf5-e1e026b1b05b",
     "showTitle": true,
     "tableResultSettingsMap": {},
     "title": "Data quality para o campo \"tmdtexclusao\" da tabela tipo_mandado"
    }
   },
   "outputs": [
    {
     "output_type": "display_data",
     "data": {
      "text/html": [
       "<style scoped>\n",
       "  .table-result-container {\n",
       "    max-height: 300px;\n",
       "    overflow: auto;\n",
       "  }\n",
       "  table, th, td {\n",
       "    border: 1px solid black;\n",
       "    border-collapse: collapse;\n",
       "  }\n",
       "  th, td {\n",
       "    padding: 5px;\n",
       "  }\n",
       "  th {\n",
       "    text-align: left;\n",
       "  }\n",
       "</style><div class='table-result-container'><table class='table-result'><thead style='background-color: white'><tr><th>count(tmid)</th></tr></thead><tbody><tr><td>29</td></tr></tbody></table></div>"
      ]
     },
     "metadata": {
      "application/vnd.databricks.v1+output": {
       "addedWidgets": {},
       "aggData": [],
       "aggError": "",
       "aggOverflow": false,
       "aggSchema": [],
       "aggSeriesLimitReached": false,
       "aggType": "",
       "arguments": {},
       "columnCustomDisplayInfos": {},
       "data": [
        [
         29
        ]
       ],
       "datasetInfos": [],
       "dbfsResultPath": null,
       "isJsonSchema": true,
       "metadata": {},
       "overflow": false,
       "plotOptions": {
        "customPlotOptions": {},
        "displayType": "table",
        "pivotAggregation": null,
        "pivotColumns": null,
        "xColumns": null,
        "yColumns": null
       },
       "removedWidgets": [],
       "schema": [
        {
         "metadata": "{\"__autoGeneratedAlias\":\"true\"}",
         "name": "count(tmid)",
         "type": "\"long\""
        }
       ],
       "type": "table"
      }
     },
     "output_type": "display_data"
    }
   ],
   "source": [
    "%sql\n",
    "SELECT COUNT(TM.tmid) \n",
    "FROM bronze.tipo_mandado AS TM\n",
    "WHERE TM.tmdtexclusao IS NULL"
   ]
  },
  {
   "cell_type": "markdown",
   "metadata": {
    "application/vnd.databricks.v1+cell": {
     "cellMetadata": {
      "byteLimit": 2048000,
      "rowLimit": 10000
     },
     "inputWidgets": {},
     "nuid": "b625c46e-9bb3-4b54-9361-0b550087ac8b",
     "showTitle": false,
     "tableResultSettingsMap": {},
     "title": ""
    }
   },
   "source": [
    "Exclusão da coluna tmdtexclusao (data de exclusão do tipo de mandado) por conter somente um registro com valor não nulo e por não ser relevante para responder as perguntas objeto do projeto."
   ]
  },
  {
   "cell_type": "code",
   "execution_count": 0,
   "metadata": {
    "application/vnd.databricks.v1+cell": {
     "cellMetadata": {
      "byteLimit": 2048000,
      "implicitDf": true,
      "rowLimit": 10000
     },
     "inputWidgets": {},
     "nuid": "b71997a5-a5bb-471e-b067-21931b9f6f12",
     "showTitle": true,
     "tableResultSettingsMap": {},
     "title": "Cria uma nova tabela com a exclusão da coluna \"tmdtexclusao\""
    }
   },
   "outputs": [
    {
     "output_type": "display_data",
     "data": {
      "text/html": [
       "<style scoped>\n",
       "  .table-result-container {\n",
       "    max-height: 300px;\n",
       "    overflow: auto;\n",
       "  }\n",
       "  table, th, td {\n",
       "    border: 1px solid black;\n",
       "    border-collapse: collapse;\n",
       "  }\n",
       "  th, td {\n",
       "    padding: 5px;\n",
       "  }\n",
       "  th {\n",
       "    text-align: left;\n",
       "  }\n",
       "</style><div class='table-result-container'><table class='table-result'><thead style='background-color: white'><tr><th>num_affected_rows</th><th>num_inserted_rows</th></tr></thead><tbody></tbody></table></div>"
      ]
     },
     "metadata": {
      "application/vnd.databricks.v1+output": {
       "addedWidgets": {},
       "aggData": [],
       "aggError": "",
       "aggOverflow": false,
       "aggSchema": [],
       "aggSeriesLimitReached": false,
       "aggType": "",
       "arguments": {},
       "columnCustomDisplayInfos": {},
       "data": [],
       "datasetInfos": [],
       "dbfsResultPath": null,
       "isJsonSchema": true,
       "metadata": {},
       "overflow": false,
       "plotOptions": {
        "customPlotOptions": {},
        "displayType": "table",
        "pivotAggregation": null,
        "pivotColumns": null,
        "xColumns": null,
        "yColumns": null
       },
       "removedWidgets": [],
       "schema": [
        {
         "metadata": "{}",
         "name": "num_affected_rows",
         "type": "\"long\""
        },
        {
         "metadata": "{}",
         "name": "num_inserted_rows",
         "type": "\"long\""
        }
       ],
       "type": "table"
      }
     },
     "output_type": "display_data"
    }
   ],
   "source": [
    "%sql\n",
    "CREATE TABLE silver.tipo_mandado AS\n",
    "SELECT TM.tmid, TM.tmdescricao \n",
    "FROM bronze.tipo_mandado AS TM\n"
   ]
  },
  {
   "cell_type": "code",
   "execution_count": 0,
   "metadata": {
    "application/vnd.databricks.v1+cell": {
     "cellMetadata": {
      "byteLimit": 2048000,
      "implicitDf": true,
      "rowLimit": 10000
     },
     "inputWidgets": {},
     "nuid": "8559a9b7-cf32-43bf-98bc-8d652590964c",
     "showTitle": true,
     "tableResultSettingsMap": {},
     "title": "Veirifcação do resultado"
    }
   },
   "outputs": [
    {
     "output_type": "display_data",
     "data": {
      "text/html": [
       "<style scoped>\n",
       "  .table-result-container {\n",
       "    max-height: 300px;\n",
       "    overflow: auto;\n",
       "  }\n",
       "  table, th, td {\n",
       "    border: 1px solid black;\n",
       "    border-collapse: collapse;\n",
       "  }\n",
       "  th, td {\n",
       "    padding: 5px;\n",
       "  }\n",
       "  th {\n",
       "    text-align: left;\n",
       "  }\n",
       "</style><div class='table-result-container'><table class='table-result'><thead style='background-color: white'><tr><th>tmid</th><th>tmdescricao</th></tr></thead><tbody><tr><td>1</td><td>Citação e Intimação para Audiência</td></tr><tr><td>2</td><td>Intimação para Audiência</td></tr><tr><td>3</td><td>Intimação</td></tr><tr><td>4</td><td>Citação</td></tr><tr><td>5</td><td>Intimação Despacho</td></tr><tr><td>6</td><td>Intimação de Sentença</td></tr><tr><td>24</td><td>Notificação</td></tr><tr><td>34</td><td>Prisão</td></tr><tr><td>27</td><td>Reintegração de Posse</td></tr><tr><td>26</td><td>Penhora e/ou avaliação</td></tr><tr><td>11</td><td>Citação/Penhora/Avaliação/Intimação/Depósito</td></tr><tr><td>7</td><td>Busca e Apreensão</td></tr><tr><td>9</td><td>MPU - Medida Protetiva de Urgência</td></tr><tr><td>8</td><td>Citação e/ou Intimação com Liminar</td></tr><tr><td>10</td><td>Afastamento do Lar</td></tr><tr><td>29</td><td>Alvará de Soltura</td></tr><tr><td>12</td><td>Para comparecimento ao Setor Multiprofissional</td></tr><tr><td>13</td><td>Averbação</td></tr><tr><td>14</td><td>Adjudicação</td></tr><tr><td>15</td><td>Depoimento Pessoal</td></tr><tr><td>16</td><td>Para comparecimento à DIAPEMA</td></tr><tr><td>17</td><td>Interrogatório</td></tr><tr><td>18</td><td>Internação</td></tr><tr><td>19</td><td>Medida Cautelar</td></tr><tr><td>20</td><td>Inquirição de Testemunha</td></tr><tr><td>21</td><td>Condução</td></tr><tr><td>25</td><td>Citação por Hora Certa</td></tr><tr><td>22</td><td>Liminar</td></tr><tr><td>23</td><td>Busca e Apreensão de Crianças e/ou adolescentes</td></tr><tr><td>28</td><td>Para Atendimento Psicossocial</td></tr></tbody></table></div>"
      ]
     },
     "metadata": {
      "application/vnd.databricks.v1+output": {
       "addedWidgets": {},
       "aggData": [],
       "aggError": "",
       "aggOverflow": false,
       "aggSchema": [],
       "aggSeriesLimitReached": false,
       "aggType": "",
       "arguments": {},
       "columnCustomDisplayInfos": {},
       "data": [
        [
         1,
         "Citação e Intimação para Audiência"
        ],
        [
         2,
         "Intimação para Audiência"
        ],
        [
         3,
         "Intimação"
        ],
        [
         4,
         "Citação"
        ],
        [
         5,
         "Intimação Despacho"
        ],
        [
         6,
         "Intimação de Sentença"
        ],
        [
         24,
         "Notificação"
        ],
        [
         34,
         "Prisão"
        ],
        [
         27,
         "Reintegração de Posse"
        ],
        [
         26,
         "Penhora e/ou avaliação"
        ],
        [
         11,
         "Citação/Penhora/Avaliação/Intimação/Depósito"
        ],
        [
         7,
         "Busca e Apreensão"
        ],
        [
         9,
         "MPU - Medida Protetiva de Urgência"
        ],
        [
         8,
         "Citação e/ou Intimação com Liminar"
        ],
        [
         10,
         "Afastamento do Lar"
        ],
        [
         29,
         "Alvará de Soltura"
        ],
        [
         12,
         "Para comparecimento ao Setor Multiprofissional"
        ],
        [
         13,
         "Averbação"
        ],
        [
         14,
         "Adjudicação"
        ],
        [
         15,
         "Depoimento Pessoal"
        ],
        [
         16,
         "Para comparecimento à DIAPEMA"
        ],
        [
         17,
         "Interrogatório"
        ],
        [
         18,
         "Internação"
        ],
        [
         19,
         "Medida Cautelar"
        ],
        [
         20,
         "Inquirição de Testemunha"
        ],
        [
         21,
         "Condução"
        ],
        [
         25,
         "Citação por Hora Certa"
        ],
        [
         22,
         "Liminar"
        ],
        [
         23,
         "Busca e Apreensão de Crianças e/ou adolescentes"
        ],
        [
         28,
         "Para Atendimento Psicossocial"
        ]
       ],
       "datasetInfos": [],
       "dbfsResultPath": null,
       "isJsonSchema": true,
       "metadata": {},
       "overflow": false,
       "plotOptions": {
        "customPlotOptions": {},
        "displayType": "table",
        "pivotAggregation": null,
        "pivotColumns": null,
        "xColumns": null,
        "yColumns": null
       },
       "removedWidgets": [],
       "schema": [
        {
         "metadata": "{}",
         "name": "tmid",
         "type": "\"integer\""
        },
        {
         "metadata": "{}",
         "name": "tmdescricao",
         "type": "\"string\""
        }
       ],
       "type": "table"
      }
     },
     "output_type": "display_data"
    }
   ],
   "source": [
    "%sql\n",
    "SELECT * FROM silver.tipo_mandado;"
   ]
  }
 ],
 "metadata": {
  "application/vnd.databricks.v1+notebook": {
   "computePreferences": null,
   "dashboards": [],
   "environmentMetadata": {
    "base_environment": "",
    "environment_version": "1"
   },
   "inputWidgetPreferences": null,
   "language": "python",
   "notebookMetadata": {
    "mostRecentlyExecutedCommandWithImplicitDF": {
     "commandId": 925638981218185,
     "dataframes": [
      "_sqldf"
     ]
    },
    "pythonIndentUnit": 4
   },
   "notebookName": "MVPSprint2 - 03 - tabela_tipo_mandado",
   "widgets": {}
  }
 },
 "nbformat": 4,
 "nbformat_minor": 0
}