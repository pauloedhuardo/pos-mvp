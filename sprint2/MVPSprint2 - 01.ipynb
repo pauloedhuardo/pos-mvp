{
 "cells": [
  {
   "cell_type": "markdown",
   "metadata": {
    "application/vnd.databricks.v1+cell": {
     "cellMetadata": {},
     "inputWidgets": {},
     "nuid": "c1a8bc62-498e-4736-bb40-bccce00fa8b8",
     "showTitle": false,
     "tableResultSettingsMap": {},
     "title": ""
    }
   },
   "source": [
    "#### Descrição do projeto"
   ]
  },
  {
   "cell_type": "markdown",
   "metadata": {
    "application/vnd.databricks.v1+cell": {
     "cellMetadata": {},
     "inputWidgets": {},
     "nuid": "1854bfbc-a9e5-47ec-9c46-a16546fe9e30",
     "showTitle": false,
     "tableResultSettingsMap": {},
     "title": ""
    }
   },
   "source": [
    "Com a vertente de digitalização de processos, alguns tribunais de justiça do Brasil investiram esforços na busca pela automatização e inovação tecnológica no âmbito da prescrição jurisdicional.\n",
    "Dessa forma, no Tribunal de justiça de Roraima, surgiu o projeto intitulado \"Mandamus\", cujo objetivo é o cumprimento de mandados judiciais através de uma aplicativo mobile, que visa a celeridade na juntada de informações dos cumprimentos dos mandados judiciais ao processo judicial, aumento a celeridade na tramitação.\n",
    "Inicialmente o projeto foi implantado como piloto na comarca da capital."
   ]
  },
  {
   "cell_type": "markdown",
   "metadata": {
    "application/vnd.databricks.v1+cell": {
     "cellMetadata": {},
     "inputWidgets": {},
     "nuid": "8f36437c-bfca-4e23-ab66-764d31330f38",
     "showTitle": false,
     "tableResultSettingsMap": {},
     "title": ""
    }
   },
   "source": [
    "#### Objetivo do projeto"
   ]
  },
  {
   "cell_type": "markdown",
   "metadata": {
    "application/vnd.databricks.v1+cell": {
     "cellMetadata": {},
     "inputWidgets": {},
     "nuid": "a4a0047d-f3b4-4205-8881-7f260dc5e6f7",
     "showTitle": false,
     "tableResultSettingsMap": {},
     "title": ""
    }
   },
   "source": [
    "O projeto tem por objetivo a coleta de informações sobre a utilização e produtividade dos cumprimentos tendo em vista a decisão de possível expansão do piloto para outras comarcas ou para adoção do aplicativo como ferramenta principal para o cumprimentos dos mandados judiciais. Para tanto é preciso responder as seguintes perguntas:\n",
    "\n",
    "1. Qual o total de mandados distribuídos?\n",
    "2. Qual o total de mandados cumpridos?\n",
    "3. Qual a quantidade de mandados cumpridos por tipo de mandado?\n",
    "4. Quantos mandados foram cumpridos utilizando aplicativo e quantos utilizando sistema judicial?\n",
    "5. Qual os oficiais de justiça que mais cumpriram mandados?\n",
    "6. Qual os oficiais de justiça que mais cumpriram mandados pelo aplicativo?\n",
    "\n",
    "A distribuíção dos mandados se dá por zonas e cada zona tem N oficiais de justiça aptos a receber mandados para cumprimento. Com a análise das informações objeto das perguntas elencadas, será possível escolher os oficiais mais produtivos na utilização do aplicativo e designá-los para implentação da ferramenta em outras comarcas."
   ]
  },
  {
   "cell_type": "markdown",
   "metadata": {
    "application/vnd.databricks.v1+cell": {
     "cellMetadata": {},
     "inputWidgets": {},
     "nuid": "da5180cf-9596-4e68-963a-f6c872fddc8f",
     "showTitle": false,
     "tableResultSettingsMap": {},
     "title": ""
    }
   },
   "source": [
    "#### Coleta dos dados"
   ]
  },
  {
   "cell_type": "markdown",
   "metadata": {
    "application/vnd.databricks.v1+cell": {
     "cellMetadata": {},
     "inputWidgets": {},
     "nuid": "c96b4c84-2dc9-4fe9-961e-e9614218452a",
     "showTitle": false,
     "tableResultSettingsMap": {},
     "title": ""
    }
   },
   "source": [
    "Os dados tiveram origem na base de dados de homologação do projeto \"Mandamus\" e foram extraídos por linguagem SQL e convertios em arquivos CSV."
   ]
  },
  {
   "cell_type": "markdown",
   "metadata": {
    "application/vnd.databricks.v1+cell": {
     "cellMetadata": {},
     "inputWidgets": {},
     "nuid": "f30da115-881a-4ad9-9af2-4e2eb7e36c8d",
     "showTitle": false,
     "tableResultSettingsMap": {},
     "title": ""
    }
   },
   "source": [
    "#### Análise dos dados"
   ]
  },
  {
   "cell_type": "markdown",
   "metadata": {
    "application/vnd.databricks.v1+cell": {
     "cellMetadata": {},
     "inputWidgets": {},
     "nuid": "a90ab8d2-8d60-4f07-aa5d-16a272d9eea7",
     "showTitle": false,
     "tableResultSettingsMap": {},
     "title": ""
    }
   },
   "source": [
    "Não houve dificuldades na análise dos dados. Todos os dados necessários para a resolução objeto do projeto tinham uma boa qualidade e estavam bem estruturados.\n",
    "\n",
    "**Tabela tipo_mandado**\n",
    "\n",
    "Foi excluída a coluna \"tpdtexclusao\" que registrava a data de exclusão do tipo do mandado, pois nos dados coletados todos os registros tinham o valor nulo.\n",
    "\n",
    "**Tabela oficial_justica**\n",
    "\n",
    "Foi excluída a coluna \"ojdtexclusao\" que registrava a data de exclusão do oficial, pois nos dados coletados todos os registros tinham o valor nulo com excessão de um único registro.\n",
    "\n",
    "**Tabela cumprimento** \n",
    "\n",
    "Foram excluídas as colunas \"cpgeolocalizacao\" e \"cpzoneid\" que continham dados não relevantes para o objetivo do projeto. Já as colunas \"cpcodendereco\", \"cpdtexclusao\" e \"cpmotivoexclusao\" foram excluídas por conter apenas valores nulos.\n",
    "\n",
    "**Tabela mandado**\n",
    "\n",
    "Foram excluídas as colunas: mddtaudiencia, mdprazo, mdcodendereco, mdcodparteprocesso, mdcodtpurgencia, mdcodvara, mdidentificadorunico, mdcodfase, mdversion e mdchaveacesso, por não terem relevância para o objetivo do projeto.\n",
    "\n"
   ]
  },
  {
   "cell_type": "markdown",
   "metadata": {
    "application/vnd.databricks.v1+cell": {
     "cellMetadata": {},
     "inputWidgets": {},
     "nuid": "811cf185-6600-4eea-8ae3-e429a4e91877",
     "showTitle": false,
     "tableResultSettingsMap": {},
     "title": ""
    }
   },
   "source": [
    "#### Autoavaliação"
   ]
  },
  {
   "cell_type": "markdown",
   "metadata": {
    "application/vnd.databricks.v1+cell": {
     "cellMetadata": {},
     "inputWidgets": {},
     "nuid": "9c894909-5881-4ae5-b6e5-160630377656",
     "showTitle": false,
     "tableResultSettingsMap": {},
     "title": ""
    }
   },
   "source": [
    "Por se tratar de dados de um projeto no qual sou idealizador e que trabalho a alguns anos, a análise dos dados foi a parte mais fácil de ser realizada. \n",
    "\n",
    "A aplicação dos conhecimentos adquiridos no módulo estudado também não houve dificuldades, haja vista minha experiência em banco de dados e linguagem SQL. \n",
    "\n",
    "O aprendizado da plataforma Databricks e do framework pyspark, apesar de ser algo novo pra mim, teve um aproveitamento a contento para o desenvolvimento do projeto. \n",
    "\n",
    "Novos dados podem ser incluídos em trabalhos futuros, como por exemplo, a quantidade de mandados cumpridos por zona/localidade visando a alocação de mais oficiais de justiça em zonas de maior cumprimento. Também pode ser analisado qual a maior incidência do tipo de mandado para que possa realizar a distribuição dos mandados levando-se em consideração a natureza dos mesmos e designando oficiais homens ou mulheres, a depender da característica ambiental em que se deve cumprir o mandado. "
   ]
  }
 ],
 "metadata": {
  "application/vnd.databricks.v1+notebook": {
   "computePreferences": null,
   "dashboards": [],
   "environmentMetadata": {
    "base_environment": "",
    "environment_version": "1"
   },
   "inputWidgetPreferences": null,
   "language": "python",
   "notebookMetadata": {
    "pythonIndentUnit": 4
   },
   "notebookName": "MVPSprint2 - 01",
   "widgets": {}
  }
 },
 "nbformat": 4,
 "nbformat_minor": 0
}